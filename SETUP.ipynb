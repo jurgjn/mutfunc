{
 "cells": [
  {
   "cell_type": "code",
   "execution_count": 3,
   "metadata": {
    "vscode": {
     "languageId": "shellscript"
    }
   },
   "outputs": [
    {
     "name": "stdout",
     "output_type": "stream",
     "text": [
      "23770bd\n"
     ]
    }
   ],
   "source": [
    "# Get short hash of current checkout for naming the docker image\n",
    "SHORT_HASH=`git rev-parse --short HEAD`\n",
    "echo $SHORT_HASH"
   ]
  },
  {
   "cell_type": "code",
   "execution_count": null,
   "metadata": {
    "vscode": {
     "languageId": "shellscript"
    }
   },
   "outputs": [
    {
     "name": "stdout",
     "output_type": "stream",
     "text": [
      "WARNING: The requested image's platform (linux/amd64) does not match the detected host platform (linux/arm64/v8) and no specific platform was requested\n",
      "\n",
      "  You can now view your Streamlit app in your browser.\n",
      "\n",
      "  URL: http://0.0.0.0:8501\n",
      "\n",
      "  Stopping...\n"
     ]
    }
   ],
   "source": [
    "# Run latest image on local machine, include the latest code changes by bind mounting the current directory at /app\n",
    "docker run -p 8501:8501 --volume `pwd`:/app --volume `readlink -f ../data`:/data mutfunc-$SHORT_HASH"
   ]
  },
  {
   "cell_type": "code",
   "execution_count": null,
   "metadata": {
    "vscode": {
     "languageId": "shellscript"
    }
   },
   "outputs": [],
   "source": [
    "# Build docker image - https://docs.docker.com/reference/cli/docker/buildx/build/\n",
    "ARGS='--platform=linux/amd64'\n",
    "#ARGS+='--progress plain '\n",
    "ARGS+='--quiet '\n",
    "ARGS+='--tag mutfunc-'\"$SHORT_HASH\"' '\n",
    "ARGS+='--file docker/Dockerfile '\n",
    "echo docker args: $ARGS\n",
    "#docker buildx build $ARGS ."
   ]
  },
  {
   "cell_type": "code",
   "execution_count": null,
   "metadata": {
    "vscode": {
     "languageId": "shellscript"
    }
   },
   "outputs": [],
   "source": [
    "# Show list of available images\n",
    "# If \"no space left on device\", delete old images / build cache etc\n",
    "#docker image rm -f aa5b5c64c089\n",
    "#docker system df\n",
    "#docker system prune\n",
    "#docker image prune\n",
    "docker images"
   ]
  },
  {
   "cell_type": "code",
   "execution_count": null,
   "metadata": {
    "vscode": {
     "languageId": "shellscript"
    }
   },
   "outputs": [],
   "source": [
    "# Save image as tar archive that can be copied over to the host VM\n",
    "docker save a1b4ec8f3099 -o mutfunc-$SHORT_HASH.tar"
   ]
  },
  {
   "cell_type": "code",
   "execution_count": null,
   "metadata": {
    "vscode": {
     "languageId": "shellscript"
    }
   },
   "outputs": [],
   "source": [
    "# Copying image tar archive to host VM\n",
    "SRC='./images/'\n",
    "DEST='sysbc-lx-s04.ethz.ch:~/images'\n",
    "rsync -azv --progress $SRC $DEST"
   ]
  },
  {
   "cell_type": "code",
   "execution_count": null,
   "metadata": {
    "vscode": {
     "languageId": "shellscript"
    }
   },
   "outputs": [],
   "source": [
    "# On host VM, load image from tar archive - https://docs.docker.com/reference/cli/docker/image/load/\n",
    "# sysbc-lx-s04.ethz.chsudo $ docker load --input mutfunc-$SHORT_HASH.tar"
   ]
  },
  {
   "cell_type": "code",
   "execution_count": null,
   "metadata": {
    "vscode": {
     "languageId": "shellscript"
    }
   },
   "outputs": [],
   "source": [
    "# On host VM, start image only mounting /data volume - https://docs.docker.com/reference/cli/docker/container/run/\n",
    "#sudo docker run -p 8501:8501 --volume `readlink -f ../data`:/data mutfunc-860de27"
   ]
  }
 ],
 "metadata": {
  "kernelspec": {
   "display_name": "Bash",
   "language": "bash",
   "name": "bash"
  },
  "language_info": {
   "codemirror_mode": "shell",
   "file_extension": ".sh",
   "mimetype": "text/x-sh",
   "name": "bash"
  }
 },
 "nbformat": 4,
 "nbformat_minor": 2
}
