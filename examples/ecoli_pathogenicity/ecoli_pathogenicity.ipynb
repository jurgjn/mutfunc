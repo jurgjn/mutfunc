{
 "cells": [
  {
   "cell_type": "code",
   "execution_count": 1,
   "id": "4f0ab003",
   "metadata": {
    "vscode": {
     "languageId": "shellscript"
    }
   },
   "outputs": [
    {
     "name": "stdout",
     "output_type": "stream",
     "text": [
      "26,991,520 missense variants in /cluster/project/beltrao/jjaenes/25.09-mutfunc/src/mutfunc/data/missense_ecoli.sqlite\n"
     ]
    }
   ],
   "source": [
    "import mutfunc.missense_ecoli as mutfunc"
   ]
  },
  {
   "cell_type": "code",
   "execution_count": 2,
   "id": "adb257cc",
   "metadata": {
    "vscode": {
     "languageId": "shellscript"
    }
   },
   "outputs": [
    {
     "data": {
      "text/html": [
       "<div>\n",
       "<style scoped>\n",
       "    .dataframe tbody tr th:only-of-type {\n",
       "        vertical-align: middle;\n",
       "    }\n",
       "\n",
       "    .dataframe tbody tr th {\n",
       "        vertical-align: top;\n",
       "    }\n",
       "\n",
       "    .dataframe thead th {\n",
       "        text-align: right;\n",
       "    }\n",
       "</style>\n",
       "<table border=\"1\" class=\"dataframe\">\n",
       "  <thead>\n",
       "    <tr style=\"text-align: right;\">\n",
       "      <th></th>\n",
       "      <th>variant_id</th>\n",
       "      <th>esm_pathogenicity_score</th>\n",
       "      <th>esm_pathogenicity_label</th>\n",
       "    </tr>\n",
       "  </thead>\n",
       "  <tbody>\n",
       "    <tr>\n",
       "      <th>0</th>\n",
       "      <td>P0A9Q5/C27A</td>\n",
       "      <td>-16.094179</td>\n",
       "      <td>pathogenic</td>\n",
       "    </tr>\n",
       "    <tr>\n",
       "      <th>1</th>\n",
       "      <td>P0A9Q5/C30A</td>\n",
       "      <td>-14.727383</td>\n",
       "      <td>pathogenic</td>\n",
       "    </tr>\n",
       "    <tr>\n",
       "      <th>2</th>\n",
       "      <td>P0A9Q5/C46A</td>\n",
       "      <td>-14.368938</td>\n",
       "      <td>pathogenic</td>\n",
       "    </tr>\n",
       "    <tr>\n",
       "      <th>3</th>\n",
       "      <td>P0A9Q5/C49A</td>\n",
       "      <td>-14.184056</td>\n",
       "      <td>pathogenic</td>\n",
       "    </tr>\n",
       "    <tr>\n",
       "      <th>4</th>\n",
       "      <td>P0A9Q5/E290A</td>\n",
       "      <td>-3.587480</td>\n",
       "      <td>benign</td>\n",
       "    </tr>\n",
       "    <tr>\n",
       "      <th>5</th>\n",
       "      <td>P0A9Q5/L280A</td>\n",
       "      <td>-3.669172</td>\n",
       "      <td>benign</td>\n",
       "    </tr>\n",
       "    <tr>\n",
       "      <th>6</th>\n",
       "      <td>P0A9Q5/Q300A</td>\n",
       "      <td>-2.621646</td>\n",
       "      <td>benign</td>\n",
       "    </tr>\n",
       "  </tbody>\n",
       "</table>\n",
       "</div>"
      ],
      "text/plain": [
       "     variant_id  esm_pathogenicity_score esm_pathogenicity_label\n",
       "0   P0A9Q5/C27A               -16.094179              pathogenic\n",
       "1   P0A9Q5/C30A               -14.727383              pathogenic\n",
       "2   P0A9Q5/C46A               -14.368938              pathogenic\n",
       "3   P0A9Q5/C49A               -14.184056              pathogenic\n",
       "4  P0A9Q5/E290A                -3.587480                  benign\n",
       "5  P0A9Q5/L280A                -3.669172                  benign\n",
       "6  P0A9Q5/Q300A                -2.621646                  benign"
      ]
     },
     "execution_count": 2,
     "metadata": {},
     "output_type": "execute_result"
    }
   ],
   "source": [
    "variants = [\n",
    "  # Known loss-of-function variants from https://www.uniprot.org/uniprotkb/P0A9Q5/entry#phenotypes_variants\n",
    "  'P0A9Q5/C27A', # Vmax decreases 9-fold\n",
    "  'P0A9Q5/C30A', # Vmax decreases 140-fold. Loss of nucleic acid-binding\n",
    "  'P0A9Q5/C46A', # Vmax decreases 11-fold\n",
    "  'P0A9Q5/C49A', # Vmax decreases 8-fold\n",
    "  # Likely benign variants eyeballed from the C-terminal domain\n",
    "  'P0A9Q5/L280A',\n",
    "  'P0A9Q5/E290A',\n",
    "  'P0A9Q5/Q300A',\n",
    "]\n",
    "mutfunc.query_missense(variants)"
   ]
  }
 ],
 "metadata": {
  "kernelspec": {
   "display_name": "af2genomics-25.08",
   "language": "python",
   "name": "python3"
  },
  "language_info": {
   "codemirror_mode": {
    "name": "ipython",
    "version": 3
   },
   "file_extension": ".py",
   "mimetype": "text/x-python",
   "name": "python",
   "nbconvert_exporter": "python",
   "pygments_lexer": "ipython3",
   "version": "3.12.11"
  }
 },
 "nbformat": 4,
 "nbformat_minor": 5
}
