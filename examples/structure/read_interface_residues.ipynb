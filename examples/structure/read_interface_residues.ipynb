{
 "cells": [
  {
   "cell_type": "code",
   "execution_count": 1,
   "id": "ac552580",
   "metadata": {},
   "outputs": [],
   "source": [
    "import glob\n",
    "import pandas as pd\n",
    "import mutfunc as mf"
   ]
  },
  {
   "cell_type": "code",
   "execution_count": 2,
   "id": "73d9daf6",
   "metadata": {},
   "outputs": [
    {
     "data": {
      "application/vnd.microsoft.datawrangler.viewer.v0+json": {
       "columns": [
        {
         "name": "index",
         "rawType": "int64",
         "type": "integer"
        },
        {
         "name": "path",
         "rawType": "object",
         "type": "string"
        }
       ],
       "ref": "d26dc437-bfc0-41fa-9eb5-7fe9bc4181fa",
       "rows": [
        [
         "0",
         "/cluster/work/beltrao/jjaenes/25.01.28_af3_bacteria_no_templates/alphafold3_predictions/4ezo-1/4ezo-1_model.cif.gz"
        ],
        [
         "1",
         "/cluster/work/beltrao/jjaenes/25.01.28_af3_bacteria_no_templates/alphafold3_predictions/2rkz-1/2rkz-1_model.cif.gz"
        ],
        [
         "2",
         "/cluster/work/beltrao/jjaenes/25.01.28_af3_bacteria_no_templates/alphafold3_predictions/5kds-1/5kds-1_model.cif.gz"
        ],
        [
         "3",
         "/cluster/work/beltrao/jjaenes/25.01.28_af3_bacteria_no_templates/alphafold3_predictions/6e8k-1/6e8k-1_model.cif.gz"
        ],
        [
         "4",
         "/cluster/work/beltrao/jjaenes/25.01.28_af3_bacteria_no_templates/alphafold3_predictions/6bmt-1/6bmt-1_model.cif.gz"
        ],
        [
         "5",
         "/cluster/work/beltrao/jjaenes/25.01.28_af3_bacteria_no_templates/alphafold3_predictions/5tp1-1/5tp1-1_model.cif.gz"
        ],
        [
         "6",
         "/cluster/work/beltrao/jjaenes/25.01.28_af3_bacteria_no_templates/alphafold3_predictions/7p8x-1/7p8x-1_model.cif.gz"
        ],
        [
         "7",
         "/cluster/work/beltrao/jjaenes/25.01.28_af3_bacteria_no_templates/alphafold3_predictions/4kts-1/4kts-1_model.cif.gz"
        ],
        [
         "8",
         "/cluster/work/beltrao/jjaenes/25.01.28_af3_bacteria_no_templates/alphafold3_predictions/1xtg-1/1xtg-1_model.cif.gz"
        ],
        [
         "9",
         "/cluster/work/beltrao/jjaenes/25.01.28_af3_bacteria_no_templates/alphafold3_predictions/7ubx-1/7ubx-1_model.cif.gz"
        ],
        [
         "10",
         "/cluster/work/beltrao/jjaenes/25.01.28_af3_bacteria_no_templates/alphafold3_predictions/1mvf-1/1mvf-1_model.cif.gz"
        ],
        [
         "11",
         "/cluster/work/beltrao/jjaenes/25.01.28_af3_bacteria_no_templates/alphafold3_predictions/4gvu-1/4gvu-1_model.cif.gz"
        ],
        [
         "12",
         "/cluster/work/beltrao/jjaenes/25.01.28_af3_bacteria_no_templates/alphafold3_predictions/6w9s-1/6w9s-1_model.cif.gz"
        ],
        [
         "13",
         "/cluster/work/beltrao/jjaenes/25.01.28_af3_bacteria_no_templates/alphafold3_predictions/3cal-1/3cal-1_model.cif.gz"
        ],
        [
         "14",
         "/cluster/work/beltrao/jjaenes/25.01.28_af3_bacteria_no_templates/alphafold3_predictions/7xli-1/7xli-1_model.cif.gz"
        ],
        [
         "15",
         "/cluster/work/beltrao/jjaenes/25.01.28_af3_bacteria_no_templates/alphafold3_predictions/8h3y-1/8h3y-1_model.cif.gz"
        ],
        [
         "16",
         "/cluster/work/beltrao/jjaenes/25.01.28_af3_bacteria_no_templates/alphafold3_predictions/4did-1/4did-1_model.cif.gz"
        ],
        [
         "17",
         "/cluster/work/beltrao/jjaenes/25.01.28_af3_bacteria_no_templates/alphafold3_predictions/1k90-2/1k90-2_model.cif.gz"
        ],
        [
         "18",
         "/cluster/work/beltrao/jjaenes/25.01.28_af3_bacteria_no_templates/alphafold3_predictions/3tnf-1/3tnf-1_model.cif.gz"
        ],
        [
         "19",
         "/cluster/work/beltrao/jjaenes/25.01.28_af3_bacteria_no_templates/alphafold3_predictions/2cv3-1/2cv3-1_model.cif.gz"
        ],
        [
         "20",
         "/cluster/work/beltrao/jjaenes/25.01.28_af3_bacteria_no_templates/alphafold3_predictions/7aye-1/7aye-1_model.cif.gz"
        ],
        [
         "21",
         "/cluster/work/beltrao/jjaenes/25.01.28_af3_bacteria_no_templates/alphafold3_predictions/3buz-1/3buz-1_model.cif.gz"
        ],
        [
         "22",
         "/cluster/work/beltrao/jjaenes/25.01.28_af3_bacteria_no_templates/alphafold3_predictions/4nzl-1/4nzl-1_model.cif.gz"
        ],
        [
         "23",
         "/cluster/work/beltrao/jjaenes/25.01.28_af3_bacteria_no_templates/alphafold3_predictions/2wok-1/2wok-1_model.cif.gz"
        ],
        [
         "24",
         "/cluster/work/beltrao/jjaenes/25.01.28_af3_bacteria_no_templates/alphafold3_predictions/4kbb-1/4kbb-1_model.cif.gz"
        ],
        [
         "25",
         "/cluster/work/beltrao/jjaenes/25.01.28_af3_bacteria_no_templates/alphafold3_predictions/2aq2-1/2aq2-1_model.cif.gz"
        ],
        [
         "26",
         "/cluster/work/beltrao/jjaenes/25.01.28_af3_bacteria_no_templates/alphafold3_predictions/6ggr-1/6ggr-1_model.cif.gz"
        ],
        [
         "27",
         "/cluster/work/beltrao/jjaenes/25.01.28_af3_bacteria_no_templates/alphafold3_predictions/6dbf-1/6dbf-1_model.cif.gz"
        ],
        [
         "28",
         "/cluster/work/beltrao/jjaenes/25.01.28_af3_bacteria_no_templates/alphafold3_predictions/7s0z-1/7s0z-1_model.cif.gz"
        ],
        [
         "29",
         "/cluster/work/beltrao/jjaenes/25.01.28_af3_bacteria_no_templates/alphafold3_predictions/8st7-1/8st7-1_model.cif.gz"
        ],
        [
         "30",
         "/cluster/work/beltrao/jjaenes/25.01.28_af3_bacteria_no_templates/alphafold3_predictions/3rqd-1/3rqd-1_model.cif.gz"
        ],
        [
         "31",
         "/cluster/work/beltrao/jjaenes/25.01.28_af3_bacteria_no_templates/alphafold3_predictions/4b60-1/4b60-1_model.cif.gz"
        ],
        [
         "32",
         "/cluster/work/beltrao/jjaenes/25.01.28_af3_bacteria_no_templates/alphafold3_predictions/8d4v-1/8d4v-1_model.cif.gz"
        ],
        [
         "33",
         "/cluster/work/beltrao/jjaenes/25.01.28_af3_bacteria_no_templates/alphafold3_predictions/7opb-1/7opb-1_model.cif.gz"
        ],
        [
         "34",
         "/cluster/work/beltrao/jjaenes/25.01.28_af3_bacteria_no_templates/alphafold3_predictions/1ohe-1/1ohe-1_model.cif.gz"
        ],
        [
         "35",
         "/cluster/work/beltrao/jjaenes/25.01.28_af3_bacteria_no_templates/alphafold3_predictions/6ir2-1/6ir2-1_model.cif.gz"
        ],
        [
         "36",
         "/cluster/work/beltrao/jjaenes/25.01.28_af3_bacteria_no_templates/alphafold3_predictions/1nu9-1/1nu9-1_model.cif.gz"
        ],
        [
         "37",
         "/cluster/work/beltrao/jjaenes/25.01.28_af3_bacteria_no_templates/alphafold3_predictions/4f27-1/4f27-1_model.cif.gz"
        ],
        [
         "38",
         "/cluster/work/beltrao/jjaenes/25.01.28_af3_bacteria_no_templates/alphafold3_predictions/6azp-1/6azp-1_model.cif.gz"
        ],
        [
         "39",
         "/cluster/work/beltrao/jjaenes/25.01.28_af3_bacteria_no_templates/alphafold3_predictions/6gbh-1/6gbh-1_model.cif.gz"
        ],
        [
         "40",
         "/cluster/work/beltrao/jjaenes/25.01.28_af3_bacteria_no_templates/alphafold3_predictions/4jwi-1/4jwi-1_model.cif.gz"
        ],
        [
         "41",
         "/cluster/work/beltrao/jjaenes/25.01.28_af3_bacteria_no_templates/alphafold3_predictions/2a5d-1/2a5d-1_model.cif.gz"
        ],
        [
         "42",
         "/cluster/work/beltrao/jjaenes/25.01.28_af3_bacteria_no_templates/alphafold3_predictions/6k3m-1/6k3m-1_model.cif.gz"
        ],
        [
         "43",
         "/cluster/work/beltrao/jjaenes/25.01.28_af3_bacteria_no_templates/alphafold3_predictions/3lw8-1/3lw8-1_model.cif.gz"
        ],
        [
         "44",
         "/cluster/work/beltrao/jjaenes/25.01.28_af3_bacteria_no_templates/alphafold3_predictions/4pz5-1/4pz5-1_model.cif.gz"
        ],
        [
         "45",
         "/cluster/work/beltrao/jjaenes/25.01.28_af3_bacteria_no_templates/alphafold3_predictions/2noj-1/2noj-1_model.cif.gz"
        ],
        [
         "46",
         "/cluster/work/beltrao/jjaenes/25.01.28_af3_bacteria_no_templates/alphafold3_predictions/4w6x-1/4w6x-1_model.cif.gz"
        ],
        [
         "47",
         "/cluster/work/beltrao/jjaenes/25.01.28_af3_bacteria_no_templates/alphafold3_predictions/5czh-1/5czh-1_model.cif.gz"
        ],
        [
         "48",
         "/cluster/work/beltrao/jjaenes/25.01.28_af3_bacteria_no_templates/alphafold3_predictions/4jwc-1/4jwc-1_model.cif.gz"
        ],
        [
         "49",
         "/cluster/work/beltrao/jjaenes/25.01.28_af3_bacteria_no_templates/alphafold3_predictions/4isq-1/4isq-1_model.cif.gz"
        ]
       ],
       "shape": {
        "columns": 1,
        "rows": 250
       }
      },
      "text/html": [
       "<div>\n",
       "<style scoped>\n",
       "    .dataframe tbody tr th:only-of-type {\n",
       "        vertical-align: middle;\n",
       "    }\n",
       "\n",
       "    .dataframe tbody tr th {\n",
       "        vertical-align: top;\n",
       "    }\n",
       "\n",
       "    .dataframe thead th {\n",
       "        text-align: right;\n",
       "    }\n",
       "</style>\n",
       "<table border=\"1\" class=\"dataframe\">\n",
       "  <thead>\n",
       "    <tr style=\"text-align: right;\">\n",
       "      <th></th>\n",
       "      <th>path</th>\n",
       "    </tr>\n",
       "  </thead>\n",
       "  <tbody>\n",
       "    <tr>\n",
       "      <th>0</th>\n",
       "      <td>/cluster/work/beltrao/jjaenes/25.01.28_af3_bac...</td>\n",
       "    </tr>\n",
       "    <tr>\n",
       "      <th>1</th>\n",
       "      <td>/cluster/work/beltrao/jjaenes/25.01.28_af3_bac...</td>\n",
       "    </tr>\n",
       "    <tr>\n",
       "      <th>2</th>\n",
       "      <td>/cluster/work/beltrao/jjaenes/25.01.28_af3_bac...</td>\n",
       "    </tr>\n",
       "    <tr>\n",
       "      <th>3</th>\n",
       "      <td>/cluster/work/beltrao/jjaenes/25.01.28_af3_bac...</td>\n",
       "    </tr>\n",
       "    <tr>\n",
       "      <th>4</th>\n",
       "      <td>/cluster/work/beltrao/jjaenes/25.01.28_af3_bac...</td>\n",
       "    </tr>\n",
       "    <tr>\n",
       "      <th>...</th>\n",
       "      <td>...</td>\n",
       "    </tr>\n",
       "    <tr>\n",
       "      <th>245</th>\n",
       "      <td>/cluster/work/beltrao/jjaenes/25.01.28_af3_bac...</td>\n",
       "    </tr>\n",
       "    <tr>\n",
       "      <th>246</th>\n",
       "      <td>/cluster/work/beltrao/jjaenes/25.01.28_af3_bac...</td>\n",
       "    </tr>\n",
       "    <tr>\n",
       "      <th>247</th>\n",
       "      <td>/cluster/work/beltrao/jjaenes/25.01.28_af3_bac...</td>\n",
       "    </tr>\n",
       "    <tr>\n",
       "      <th>248</th>\n",
       "      <td>/cluster/work/beltrao/jjaenes/25.01.28_af3_bac...</td>\n",
       "    </tr>\n",
       "    <tr>\n",
       "      <th>249</th>\n",
       "      <td>/cluster/work/beltrao/jjaenes/25.01.28_af3_bac...</td>\n",
       "    </tr>\n",
       "  </tbody>\n",
       "</table>\n",
       "<p>250 rows × 1 columns</p>\n",
       "</div>"
      ],
      "text/plain": [
       "                                                  path\n",
       "0    /cluster/work/beltrao/jjaenes/25.01.28_af3_bac...\n",
       "1    /cluster/work/beltrao/jjaenes/25.01.28_af3_bac...\n",
       "2    /cluster/work/beltrao/jjaenes/25.01.28_af3_bac...\n",
       "3    /cluster/work/beltrao/jjaenes/25.01.28_af3_bac...\n",
       "4    /cluster/work/beltrao/jjaenes/25.01.28_af3_bac...\n",
       "..                                                 ...\n",
       "245  /cluster/work/beltrao/jjaenes/25.01.28_af3_bac...\n",
       "246  /cluster/work/beltrao/jjaenes/25.01.28_af3_bac...\n",
       "247  /cluster/work/beltrao/jjaenes/25.01.28_af3_bac...\n",
       "248  /cluster/work/beltrao/jjaenes/25.01.28_af3_bac...\n",
       "249  /cluster/work/beltrao/jjaenes/25.01.28_af3_bac...\n",
       "\n",
       "[250 rows x 1 columns]"
      ]
     },
     "execution_count": 2,
     "metadata": {},
     "output_type": "execute_result"
    }
   ],
   "source": [
    "# Find all top-ranked structures in directory\n",
    "interface_residues = pd.DataFrame({\n",
    "    'path': glob.glob('/cluster/work/beltrao/jjaenes/25.01.28_af3_bacteria_no_templates/alphafold3_predictions/*/*_model.cif.gz')\n",
    "})\n",
    "interface_residues"
   ]
  },
  {
   "cell_type": "code",
   "execution_count": 3,
   "id": "571ab830",
   "metadata": {},
   "outputs": [
    {
     "name": "stdout",
     "output_type": "stream",
     "text": [
      "Using 8 cores inferred from SLURM_NTASKS\n"
     ]
    },
    {
     "data": {
      "application/vnd.jupyter.widget-view+json": {
       "model_id": "62805757e1444372b17a1762576aadc4",
       "version_major": 2,
       "version_minor": 0
      },
      "text/plain": [
       "  0%|          | 0/250 [00:00<?, ?it/s]"
      ]
     },
     "metadata": {},
     "output_type": "display_data"
    },
    {
     "data": {
      "application/vnd.microsoft.datawrangler.viewer.v0+json": {
       "columns": [
        {
         "name": "index",
         "rawType": "int64",
         "type": "integer"
        },
        {
         "name": "path",
         "rawType": "object",
         "type": "string"
        },
        {
         "name": "ifresid1",
         "rawType": "object",
         "type": "unknown"
        },
        {
         "name": "ifresid2",
         "rawType": "object",
         "type": "unknown"
        }
       ],
       "ref": "3a02a1df-cad7-4198-a826-466cebb2372c",
       "rows": [
        [
         "0",
         "/cluster/work/beltrao/jjaenes/25.01.28_af3_bacteria_no_templates/alphafold3_predictions/4ezo-1/4ezo-1_model.cif.gz",
         "['T43', 'Q44', 'D45', 'E47', 'L49', 'Q52', 'P53', 'K55', 'R56', 'Q57', 'A58', 'V59', 'T60', 'N61', 'P62', 'Q63', 'D255', 'P256', 'L257', 'A258', 'Q260', 'R261', 'E264', 'K268', 'N282', 'L283', 'P284', 'Y285', 'I286', 'T287', 'A288', 'D289', 'A290', 'T291', 'G292', 'P293', 'K294', 'H295']",
         "['Y34', 'R44', 'Q48', 'L60', 'D61', 'Q62', 'P63', 'P64', 'K65', 'A66', 'D67', 'D69', 'P70', 'G71', 'T72', 'P73', 'K74', 'P75', 'V76', 'S77', 'F78', 'T79', 'Q106', 'C107', 'V108', 'G109', 'T110', 'V111', 'T112', 'N114', 'S116', 'I117', 'H118', 'S119', 'L120', 'D121', 'I122', 'S123', 'C124', 'N125', 'E126', 'I127', 'Q128', 'V130']"
        ],
        [
         "1",
         "/cluster/work/beltrao/jjaenes/25.01.28_af3_bacteria_no_templates/alphafold3_predictions/2rkz-1/2rkz-1_model.cif.gz",
         "['G51', 'C52', 'Y53', 'D54', 'N55', 'G56', 'W65', 'R67', 'T68', 'Y69', 'L70', 'G71', 'N72', 'L74', 'V75', 'C76', 'T77', 'C78', 'Y79', 'G80', 'G81', 'S82', 'R83', 'G84', 'F85', 'N86', 'C87', 'E88', 'S89', 'K90', 'P91', 'E95', 'T96', 'C97', 'F98', 'D99', 'K100', 'Y101', 'G103', 'Y112', 'R114', 'K116', 'D117', 'S118', 'M119', 'I120', 'W121', 'D122', 'C123', 'T124', 'I126', 'G127', 'A128', 'G129', 'R130', 'G131', 'R132', 'I133', 'S134', 'C135', 'T136', 'I137', 'A138', 'N139', 'R140', 'C141', 'H142', 'E143', 'G144', 'G145', 'Q146', 'S147', 'Y148', 'W154', 'R156', 'P157', 'H158', 'E159', 'T160', 'G162', 'Y163', 'M164', 'L165', 'E166', 'C167', 'V168', 'C169', 'L170', 'G171', 'N172', 'G173', 'K174', 'G175', 'E176', 'W177', 'T178', 'C179', 'K180', 'P181', 'I182', 'A183', 'E184', 'K185', 'C186', 'F187', 'D188', 'H189', 'A190', 'A191', 'G192', 'T193', 'S194', 'Y195', 'W201', 'E202', 'K203', 'P204', 'Y205', 'Q206', 'G207', 'W208', 'M209', 'M210', 'V211', 'D212', 'C213', 'T214', 'C215', 'L216', 'G217', 'E218', 'G219', 'S220', 'G221', 'R222', 'I223', 'T224', 'C225', 'T226', 'S227', 'R228', 'N229', 'R230', 'C231', 'N232', 'D233', 'Q234', 'D235', 'T236', 'R237', 'T238', 'S239', 'Y240', 'R241', 'I242', 'G243', 'D244', 'T245', 'W246', 'S247', 'K248', 'K249', 'D250', 'N251', 'R252', 'N254', 'L255', 'L256', 'Q257', 'C258', 'I259', 'C260', 'T261', 'G262', 'N263', 'G264', 'R265', 'G266', 'E267', 'W268', 'K269', 'C270', 'E271', 'R272', 'H273', 'T274', 'S275', 'V276', 'Q277', 'T278', 'T279', 'S280', 'Y294', 'Q295', 'P296', 'Q297', 'P298', 'P300', 'Q301', 'P302', 'P303', 'P304', 'Y305', 'G306', 'H307', 'C308', 'V309', 'T310', 'D311', 'S312', 'G313', 'V314', 'V315', 'Y316', 'S317', 'V318', 'G319', 'W322', 'L323', 'K324', 'Q326', 'N328', 'K329', 'M331', 'T334', 'C335', 'L336', 'G337', 'N338', 'G339', 'V340', 'S341', 'C342', 'Q343', 'E344', 'T345', 'A346', 'P363', 'Q409', 'T410', 'R411', 'G412', 'G413', 'N414', 'S415', 'N416', 'G417', 'A418', 'Y426', 'G438', 'R439', 'R440', 'D441', 'N442', 'M443', 'K444', 'W445', 'T449', 'N451', 'Y452', 'D453', 'A454', 'D455', 'Q456', 'K457', 'F458', 'G459', 'F460', 'C461', 'P462', 'M463', 'A464', 'A465', 'E467', 'E468', 'I469', 'C470', 'T471', 'T472', 'N473', 'E474', 'G475', 'V476', 'M477', 'Y478', 'I480', 'W484', 'D485', 'K486', 'Q487', 'H488', 'D489', 'M490', 'G491', 'H492', 'M493', 'M494', 'R495', 'C496', 'C498', 'G500', 'N501', 'G502', 'R503', 'G504', 'E505', 'W506', 'T507', 'C508', 'I509', 'A510', 'Y511', 'S512', 'Q513', 'L514', 'D516', 'Q517', 'C518', 'I519', 'V520', 'D521', 'D522', 'I523', 'T524', 'N526', 'V527', 'N528', 'D529', 'T530', 'F531', 'H532', 'K533', 'R534', 'H535', 'E536', 'E537', 'G538', 'H539', 'M540', 'L541', 'N542', 'C543', 'T544', 'C545', 'F546', 'G547', 'Q548', 'G549', 'R550', 'G551', 'R552', 'W553', 'K554', 'C555', 'D556', 'P557', 'V558', 'D559', 'Q560', 'C561', 'Q562', 'D563', 'S564', 'E565', 'T566', 'G567', 'T568', 'F569', 'Y570', 'W576', 'K578', 'V580', 'H581', 'G582', 'V583', 'R584', 'Y585', 'Q586', 'C587', 'C589', 'G591', 'R592', 'G593', 'I594', 'G595', 'E596', 'W597', 'H598', 'C599', 'Q600', 'P601', 'L602', 'Q603', 'Y605', 'P611', 'E613', 'E618', 'T619', 'P620', 'S621', 'Q622', 'P623', 'N624', 'S625', 'P627', 'K648', 'N649', 'T667', 'I668', 'K669', 'G670', 'L671', 'V676', 'D696', 'T698', 'T700', 'S701', 'T702', 'S703', 'T704', 'P705', 'V706', 'T707', 'S708', 'N709', 'T710', 'V711', 'T712', 'P720', 'V722', 'A723', 'T724', 'S725', 'E726', 'S727', 'V728', 'T729', 'E730', 'V737', 'V738', 'S739', 'W740', 'V741', 'S742', 'A743', 'S744', 'D745', 'T746', 'V747', 'S748', 'G749', 'F750', 'P769', 'S770', 'T771', 'A772', 'T773', 'S774', 'V775', 'N776', 'Q792', 'I793', 'E795', 'L803', 'E917', 'T919', 'K922', 'N1214', 'G1306', 'F1366', 'I1369', 'G1370', 'P1371', 'T1387', 'N1388', 'P1395', 'V1396', 'K1397', 'S1406', 'I1407', 'S1408', 'P1409', 'S1410', 'D1411', 'A1413', 'V1414', 'L1419', 'L1420', 'P1421', 'G1422', 'T1423', 'E1424', 'Y1425', 'Q1435', 'R1444', 'Q1445', 'K1446', 'T1447', 'G1448', 'L1449', 'D1450', 'S1451', 'P1452', 'T1453', 'G1454', 'I1455', 'D1456', 'W1469', 'I1470', 'A1471', 'P1472', 'R1473', 'A1474', 'T1475', 'I1476', 'T1477', 'G1478', 'Y1479', 'P1498', 'H1499', 'S1500', 'A1521', 'L1522', 'N1523', 'G1524', 'R1525', 'E1526', 'E1527', 'S1528', 'P1529', 'L1531', 'T1827', 'P1855', 'S1871', 'G1872', 'R1912', 'R1926', 'D1955', 'V1956', 'R1957', 'S1958', 'N1980', 'R1982', 'P2034', 'T2211', 'I2212', 'S2213', 'W2214', 'A2215', 'P2216', 'F2217', 'Q2218', 'D2219', 'T2220', 'Y2223', 'T2244', 'T2246', 'S2247', 'A2248', 'A2265', 'K2267', 'D2268', 'Q2270', 'H2272', 'V2274', 'R2275', 'E2277', 'V2279', 'L2289', 'N2290', 'Q2291', 'P2292', 'D2295', 'S2296', 'C2297', 'F2298', 'D2299', 'P2300', 'Y2301', 'T2302', 'V2303', 'H2305', 'W2312', 'R2314', 'M2315', 'S2316', 'E2317', 'S2318', 'G2319', 'F2320', 'K2321', 'L2322', 'L2323', 'C2324', 'L2327', 'G2328', 'F2329', 'G2330', 'S2331', 'G2332', 'H2333', 'F2334', 'R2335', 'C2336', 'D2337', 'S2338', 'S2339', 'R2340', 'W2341', 'C2342', 'H2343', 'D2344', 'N2345', 'G2346', 'W2355', 'R2357', 'Q2358', 'G2359', 'E2360', 'N2361', 'G2362', 'Q2363', 'M2364', 'M2365', 'S2366', 'C2367', 'G2371', 'N2372', 'G2373', 'K2374', 'G2375', 'E2376', 'F2377', 'K2378', 'C2379', 'D2380', 'P2381', 'C2386', 'Y2387', 'D2388', 'D2389', 'G2390', 'K2391', 'W2399', 'K2401', 'Y2403', 'L2404', 'G2405', 'A2406', 'C2408', 'C2410', 'T2411', 'F2413', 'G2415', 'Q2416', 'R2417', 'G2418', 'W2419', 'R2420', 'C2421', 'D2422', 'N2423', 'C2424', 'R2425', 'R2426', 'R2451', 'T2452', 'N2453', 'T2454', 'N2455', 'V2456', 'N2457', 'C2458', 'P2459', 'I2460', 'E2461', 'C2462', 'F2463', 'M2464', 'P2465', 'L2466', 'D2467', 'Q2469']",
         "['M1', 'K2', 'N3', 'N4', 'L5', 'R6', 'Y7', 'G8', 'I9', 'R10', 'K11', 'H12', 'K13', 'L14', 'G15', 'A16', 'A17', 'S18', 'V19', 'F20', 'D54', 'N55', 'K56', 'T57', 'S58', 'E59', 'T60', 'Q61', 'T62', 'T63', 'A64', 'T65', 'N66', 'V67', 'E204', 'I205', 'H211', 'N212', 'N213', 'T214', 'N215', 'L237', 'H238', 'Q239', 'K266', 'N267', 'G268', 'S269', 'V270', 'V271', 'T288', 'N289', 'D290', 'I291', 'E292', 'D293', 'K294', 'D296', 'K386', 'T465', 'D466', 'E467', 'D469', 'E509', 'K510', 'N511', 'G512', 'P513', 'I514', 'I515', 'Q516', 'N517', 'N518', 'K519', 'F520', 'E521', 'Y522', 'K523', 'E524', 'D525', 'T526', 'I527', 'K528', 'E529', 'T530', 'L531', 'T532', 'G533', 'Q534', 'Y535', 'D536', 'K537', 'L539', 'V540', 'T541', 'T542', 'V543', 'E544', 'E545', 'E546', 'Y547', 'D548', 'S549', 'S550', 'T551', 'L552', 'D553', 'I554', 'D555', 'Y556', 'H557', 'T558', 'A559', 'I560', 'Y570', 'I574', 'T577', 'D578', 'S579', 'S580', 'A581', 'I582', 'D583', 'I584', 'D585', 'Y586', 'H587', 'V590', 'D591', 'S592', 'E593', 'A594', 'G595', 'H596', 'V597', 'G598', 'G599', 'Y600', 'T601', 'E602', 'S603', 'S604', 'E605', 'E606', 'S607', 'N608', 'P609', 'I610', 'D611', 'F612', 'E613', 'E614', 'S615', 'T616', 'H617', 'E618', 'N619', 'S620', 'K621', 'H622', 'H623', 'A624', 'D625', 'V626', 'V627', 'E628', 'Y629', 'E630', 'E631', 'D632', 'T633', 'N634', 'P635', 'G636', 'G637', 'G638', 'Q639', 'V640', 'T641', 'T642', 'E643', 'S644', 'N645', 'L646', 'V647', 'E648', 'F649', 'D650', 'E651', 'E652', 'S653', 'T654', 'K655', 'G656', 'I657', 'V658', 'T659', 'G660', 'A661', 'V662', 'S663', 'D664', 'H665', 'T666', 'T667', 'V668', 'E669', 'D670', 'T671', 'K672', 'E673', 'Y674', 'T675', 'T676', 'E677', 'S678', 'N679', 'L680', 'I681', 'E682', 'L683', 'V684', 'D685', 'E686', 'L687', 'P688', 'E689', 'E690', 'H691', 'G692', 'Q693', 'A694', 'Q695', 'G696', 'P697', 'V698', 'E699', 'E700', 'I701', 'T702', 'K703', 'N704', 'N705', 'H706', 'H707', 'I708', 'S709', 'H710', 'S711', 'G712', 'L713', 'G714', 'T715', 'E716', 'N717', 'G718', 'H719', 'G720', 'N721', 'Y722', 'D723', 'V724', 'I725', 'E726', 'E727', 'I728', 'E729', 'E730', 'N731', 'S732', 'H733', 'V734', 'D735', 'L740', 'G741', 'Y742', 'E743', 'G744', 'G745', 'Q746', 'N747', 'S748', 'G749', 'N750', 'Q751', 'S752', 'F753', 'E754', 'E755', 'D756', 'T757', 'E758', 'E759', 'D760', 'K761', 'P762', 'K763', 'Y764', 'E765', 'Q766', 'G767', 'G768', 'N769', 'I770', 'V771', 'D772', 'I773', 'D774', 'F775', 'D776', 'S777', 'V778', 'Q780', 'I781', 'H782', 'G783', 'Q784', 'N785', 'K786', 'G787', 'N788', 'Q789', 'S790', 'F791', 'E792', 'E793', 'D794', 'T795', 'E796', 'K797', 'D798', 'K799', 'P800', 'K801', 'Y802', 'E803', 'H804', 'G805', 'G806', 'N807', 'I808', 'I809', 'D810', 'I811', 'D812', 'F813', 'D814', 'S815', 'V816', 'P817', 'H818', 'I819', 'H820', 'G821', 'F822', 'K824', 'K835', 'D849', 'F850', 'E851', 'E852', 'D853', 'T854', 'L855', 'P856', 'K857', 'V858', 'S859', 'G860', 'Q861', 'N862', 'E863', 'G864', 'Q865', 'Q866', 'T867', 'I868', 'E869', 'E870', 'D871', 'T872', 'T873', 'P874', 'P875', 'I876', 'V877', 'P878', 'P879', 'T880', 'P881', 'P882', 'T883', 'P884', 'E885', 'V886', 'P887', 'S888', 'E941', 'E942', 'P943', 'K944', 'K945', 'P946', 'S947', 'K948', 'P949', 'V950']"
        ],
        [
         "2",
         "/cluster/work/beltrao/jjaenes/25.01.28_af3_bacteria_no_templates/alphafold3_predictions/5kds-1/5kds-1_model.cif.gz",
         "['W516', 'Q519', 'T556', 'Q557', 'H558', 'G559', 'G560', 'M718', 'K720', 'L722', 'G725', 'A726', 'F727', 'M728', 'N729', 'A730', 'G731', 'N732', 'G733', 'V734', 'I735', 'G736', 'W752', 'G753', 'V754', 'H756', 'E757', 'H760', 'N761', 'T768', 'V770', 'E771', 'N774', 'N775']",
         "['T1', 'A2', 'P3', 'G4', 'G5']"
        ],
        [
         "3",
         "/cluster/work/beltrao/jjaenes/25.01.28_af3_bacteria_no_templates/alphafold3_predictions/6e8k-1/6e8k-1_model.cif.gz",
         "['G18', 'L19', 'I20', 'N21', 'S22', 'Y23', 'Q24', 'I25', 'H26', 'N27', 'H32', 'T36', 'K37', 'E38', 'S39', 'K40', 'A41', 'V42', 'F43', 'R46', 'D47', 'S48', 'S49', 'T50', 'Y51', 'P52', 'L54', 'L55', 'T56', 'I57', 'S58', 'Y59', 'C61', 'Q62', 'E63', 'Q64', 'I66', 'V67', 'K68', 'H69', 'I70', 'R71', 'F72', 'K80', 'T81', 'A82', 'P83', 'K84', 'P85', 'P86', 'H87', 'E88', 'F108', 'M112', 'K133', 'I136', 'M137', 'E138', 'L139', 'K140', 'I141', 'H142', 'E143', 'F144', 'N145', 'L146', 'E147', 'G148', 'L149', 'S155', 'Q156']",
         "['Y38', 'R41', 'R67', 'R68', 'D94', 'S95', 'Q96', 'K97', 'L98', 'T99', 'T100', 'V101', 'D102', 'F127', 'E128', 'A157', 'S158', 'H159', 'Y160', 'F161', 'E162', 'R163', 'H164', 'L165', 'K189', 'Q214', 'G363', 'Y364', 'F365', 'F366', 'H368', 'P370', 'A372', 'L373', 'E374', 'I375', 'E376', 'C378', 'Q379', 'V380', 'Y381', 'F382', 'T383', 'Y384', 'D385', 'P386', 'Y387', 'S388', 'E389']"
        ],
        [
         "4",
         "/cluster/work/beltrao/jjaenes/25.01.28_af3_bacteria_no_templates/alphafold3_predictions/6bmt-1/6bmt-1_model.cif.gz",
         "['T145', 'P146', 'A147', 'L149', 'N150', 'S153', 'C158', 'A159', 'Y160', 'Q161', 'D162', 'V163', 'G164', 'V165', 'T166', 'C167', 'P168', 'E169', 'M179', 'C180', 'N182', 'R183', 'R184', 'S185', 'P186', 'T187', 'L188', 'R193', 'F195', 'V196', 'R197', 'W198', 'L199', 'P200', 'A201', 'E202', 'Y203', 'E204', 'D205', 'G206', 'F207', 'Y211', 'R219', 'N220', 'G221', 'P320', 'G321', 'S322', 'N323', 'I324', 'I326', 'N483', 'D484', 'S485', 'V486', 'D487', 'P488', 'R489', 'A491', 'G595', 'L596', 'P597', 'G598', 'N600', 'A601', 'W602', 'R603', 'R604', 'F605', 'C606', 'G607', 'L608', 'P609', 'Q610', 'E612', 'N638', 'N639', 'T667', 'Q668', 'R670', 'K671']",
         "['V21', 'S22', 'N23', 'E24', 'A25', 'N26', 'A27', 'Q28', 'V29', 'T30', 'S31', 'Q32', 'N33', 'G34', 'I35', 'I36', 'L37', 'H38', 'D39', 'D40', 'S41', 'R42', 'M43', 'L44', 'D45', 'H46', 'E47', 'L48', 'Q49', 'Y50', 'V51', 'D52', 'V53', 'L54', 'I55', 'N56', 'P57', 'N58', 'A59', 'N60', 'P61', 'Q62', 'T63', 'K64', 'E65', 'R66', 'L67', 'K68', 'A69', 'Y70', 'F71', 'S73', 'Q74', 'A86', 'Q88', 'D89', 'G90', 'L91', 'D92', 'K95']"
        ],
        [
         "5",
         "/cluster/work/beltrao/jjaenes/25.01.28_af3_bacteria_no_templates/alphafold3_predictions/5tp1-1/5tp1-1_model.cif.gz",
         "['L8', 'E9', 'Q10', 'E12', 'E13', 'D14', 'S16', 'K17', 'S20', 'I33', 'D34', 'I35', 'P36', 'D37', 'A38', 'L39', 'S40', 'E41', 'R42', 'D43', 'K44', 'V45', 'K46', 'F47', 'T48', 'H50', 'E62', 'F99', 'D100', 'P102', 'R103', 'E104', 'M106', 'Q107', 'K108', 'L109', 'G110', 'E111', 'E113', 'F121', 'M124', 'K125', 'Q126', 'E127', 'L128', 'E129', 'A130', 'E131', 'Y132', 'L133', 'A134', 'V135', 'F136', 'K137', 'K138', 'T139', 'V140', 'S141', 'E144', 'Q148', 'R176', 'K177', 'N178', 'T179', 'K180', 'E181', 'M182', 'F183', 'G184', 'F186', 'F187', 'V190', 'V191', 'A194', 'L198']",
         "['F66', 'V72', 'I73', 'L76', 'L77', 'G78', 'I79', 'V80', 'L81', 'F82', 'A83', 'I84', 'S85', 'A86', 'L87', 'D88', 'E91', 'D92', 'V96', 'K105', 'S106', 'S107', 'P108', 'A109', 'N110', 'E111', 'P112', 'T113', 'V114', 'Q115', 'F116', 'F117', 'K118', 'G119', 'K120', 'N121', 'G122', 'S123', 'A124', 'D125', 'K126', 'V127', 'I128', 'L129', 'V130', 'T131', 'Q132']"
        ],
        [
         "6",
         "/cluster/work/beltrao/jjaenes/25.01.28_af3_bacteria_no_templates/alphafold3_predictions/7p8x-1/7p8x-1_model.cif.gz",
         "['P13', 'K46', 'K47', 'W48', 'G49', 'V50', 'N78', 'S79', 'R80', 'T81', 'S82', 'S84', 'V86', 'K87', 'G88', 'S89', 'G90', 'Y91', 'E92', 'L93', 'T94', 'K95', 'R96', 'I98', 'W99', 'D192', 'K195', 'D199', 'R200', 'Y201', 'V204', 'S206', 'P207', 'N208', 'G209', 'P210', 'T211', 'G212', 'S213', 'E216', 'Y217', 'G257', 'R258', 'N259', 'L260', 'D261', 'I262', 'T263', 'Y264', 'A265', 'T266', 'L267', 'F268', 'P269', 'R270', 'T271', 'G272', 'I273', 'Y274', 'A275', 'E276', 'K278', 'H279', 'N280', 'A281', 'F282', 'V283', 'N284', 'R285', 'N286', 'F287']",
         "['I10', 'N12', 'E18', 'E19', 'V20', 'T21', 'T22', 'F23', 'F24', 'D25', 'Y26', 'D27', 'Y28', 'G29', 'A30', 'P31', 'C32', 'H33', 'K34', 'F35', 'D36', 'V37', 'K38', 'Q39', 'L45', 'Y49', 'W98', 'Y120', 'K180', 'C181', 'Q182', 'K183', 'E184', 'D185', 'S186', 'V187', 'Y188', 'V189', 'C190', 'G191', 'P192', 'Y193', 'F194', 'P195', 'R196', 'G197', 'N199', 'R206', 'Y259', 'V262', 'I263', 'L265', 'N266', 'T267', 'Q269', 'E270', 'G273', 'L274', 'S275', 'N276', 'C277', 'E278', 'S279', 'T280', 'S281', 'Q282', 'L283', 'D284', 'Q285', 'A286', 'T287', 'Q288', 'V289', 'E291', 'T292', 'M295']"
        ],
        [
         "7",
         "/cluster/work/beltrao/jjaenes/25.01.28_af3_bacteria_no_templates/alphafold3_predictions/4kts-1/4kts-1_model.cif.gz",
         "['I24', 'V25', 'S40', 'L41', 'N42', 'S43', 'G44', 'Y45', 'H46', 'F47', 'C48', 'G49', 'A61', 'A62', 'H63', 'C64', 'Y65', 'K66', 'R72', 'I78', 'N79', 'Y99', 'N100', 'S101', 'N102', 'T103', 'L104', 'N105', 'D107', 'I141', 'W144', 'G145', 'N146', 'K148', 'S150', 'G151', 'T152', 'S153', 'Y154', 'P155', 'D156', 'Y175', 'P176', 'G177', 'Q178', 'I179', 'T180', 'M183', 'A186', 'K193', 'D194', 'S195', 'C196', 'Q197', 'G198', 'D199', 'S200', 'G201', 'G202', 'I213', 'V214', 'S215', 'W216', 'G217', 'S218', 'G219', 'C220', 'A221', 'Q222', 'K225', 'P226', 'G227', 'V228', 'Y229']",
         "['A2', 'Y3', 'P4', 'N5', 'D6', 'Q7', 'Q8', 'G9', 'K10', 'A11', 'L12', 'P13', 'F14', 'F15', 'A16', 'R17', 'F18', 'L19', 'S20', 'V21', 'K23', 'E24']"
        ],
        [
         "8",
         "/cluster/work/beltrao/jjaenes/25.01.28_af3_bacteria_no_templates/alphafold3_predictions/1xtg-1/1xtg-1_model.cif.gz",
         "['A686', 'N687', 'K688', 'V689', 'Y824', 'N826', 'R827', 'G828', 'T829', 'L830', 'I831', 'G832', 'Q833', 'V834', 'D835', 'R836', 'K838', 'N954', 'S955', 'L958', 'Y980', 'S1002', 'Q1003', 'M1004', 'I1005', 'N1006', 'D1118', 'P1119', 'N1120', 'K1121', 'Y1122', 'D1124', 'Y1133', 'Y1135', 'L1136', 'K1137', 'G1138', 'P1139', 'R1140', 'G1141', 'S1142', 'V1143', 'M1144', 'T1145', 'T1146', 'N1147', 'I1148', 'Y1149', 'L1150', 'N1151', 'S1152', 'S1153', 'Y1155', 'R1156', 'Q1254', 'F1255', 'N1256', 'N1257', 'I1258', 'A1259', 'K1260', 'G1292', 'E1293', 'R1294', 'P1295', 'L1296']",
         "['L26', 'E27', 'S28', 'T29', 'R30', 'R31', 'M32', 'L33', 'Q34', 'L35', 'V36', 'E37', 'E38', 'K40', 'D41', 'G43', 'I44', 'R45', 'T46', 'L47', 'V48', 'M49', 'L50', 'Q53', 'D122', 'E123', 'R124', 'E125', 'Q126', 'M127', 'A128', 'I129', 'S130', 'G131', 'G132', 'F133', 'R136', 'T138', 'N139', 'D140', 'A141', 'R142', 'E143', 'N144', 'E145', 'D147', 'E148', 'N149', 'L150', 'E151', 'Q152', 'V153', 'S154', 'G155', 'I156', 'I157', 'G158', 'N159', 'L160', 'R161', 'H162', 'M163', 'A164', 'L165', 'D166', 'M167', 'G168', 'N169', 'E170', 'I171']"
        ],
        [
         "9",
         "/cluster/work/beltrao/jjaenes/25.01.28_af3_bacteria_no_templates/alphafold3_predictions/7ubx-1/7ubx-1_model.cif.gz",
         "['V1530', 'D1531', 'N1532', 'N1533', 'K1536', 'S1564', 'Y1565', 'L1566', 'D1567', 'F1568', 'V1569', 'K1570', 'N1571', 'S1572', 'D1573', 'G1574', 'H1575', 'H1576', 'T1578', 'S1579', 'N1580', 'F1581', 'M1582', 'N1583', 'L1584', 'F1585', 'L1586', 'D1587', 'N1588', 'I1589', 'S1590', 'W1592', 'K1593', 'E1598', 'N1599', 'N1601', 'Y1679', 'R1683', 'S1707', 'E1709', 'S1755', 'N1756', 'K1757', 'Y2557', 'H2559', 'D2560', 'N2561', 'N2594', 'G2595', 'Y2605', 'F2606', 'R2607', 'N2608', 'Q2612', 'F2616', 'L2649', 'L2650', 'G2651', 'K2652', 'Y2654', 'M2677', 'P2678', 'D2679', 'T2680', 'M2682', 'F2689', 'E2690']",
         "['V6', 'E7', 'S8', 'G9', 'G10', 'G11', 'L12', 'V13', 'Q14', 'G17', 'S18', 'L19', 'R20', 'L21', 'S22', 'D32', 'Y33', 'V34', 'M35', 'T36', 'W48', 'I49', 'A50', 'T51', 'I52', 'N53', 'T54', 'D55', 'G56', 'S57', 'T58', 'M59', 'R60', 'D61', 'D62', 'S63', 'T64', 'K65', 'G66', 'R67', 'F68', 'T69', 'I70', 'S71', 'L81', 'Q82', 'M83', 'T84', 'S85', 'L86', 'R98', 'G99', 'R100', 'V101', 'I102', 'S103', 'A104', 'S105', 'A106', 'I107', 'G109', 'A110', 'V111', 'P114', 'G115', 'T116', 'Q117', 'T119', 'S121', 'S122']"
        ],
        [
         "10",
         "/cluster/work/beltrao/jjaenes/25.01.28_af3_bacteria_no_templates/alphafold3_predictions/1mvf-1/1mvf-1_model.cif.gz",
         "['S30', 'K32', 'Y33', 'A50', 'I51', 'F52', 'I53', 'D54', 'N55', 'G56', 'N57', 'T58', 'I59', 'Y60', 'S99', 'S100', 'R101', 'W102', 'M103', 'D104', 'Y105', 'S106', 'A107', 'L108', 'T109', 'K111', 'A112', 'Y113']",
         "['M1', 'I2', 'H3', 'R16', 'I17', 'P18', 'A19', 'T20', 'L21', 'M22', 'Q23', 'A24', 'L25', 'N26', 'L27', 'R48']"
        ],
        [
         "11",
         "/cluster/work/beltrao/jjaenes/25.01.28_af3_bacteria_no_templates/alphafold3_predictions/4gvu-1/4gvu-1_model.cif.gz",
         "['T23', 'N24', 'A25', 'R26', 'L44', 'Y46', 'H54', 'T55', 'C56', 'G57', 'T68', 'A69', 'A70', 'H71', 'C72', 'V73', 'D74', 'R75', 'L77', 'F79', 'W109', 'N110', 'T111', 'D112', 'D113', 'V114', 'A115', 'A116', 'G117', 'D119', 'W158', 'G159', 'L160', 'T163', 'N164', 'L167', 'W190', 'S192', 'T193', 'V194', 'K195', 'M198', 'G209', 'C210', 'Q211', 'G212', 'D213', 'S214', 'G215', 'G216', 'T232', 'S233', 'F234', 'V235', 'S236', 'R237', 'L238', 'G239', 'C240', 'K245', 'V248']",
         "['X1', 'Q2', 'T3', 'T4', 'E5', 'F6', 'X7', 'V8']"
        ],
        [
         "12",
         "/cluster/work/beltrao/jjaenes/25.01.28_af3_bacteria_no_templates/alphafold3_predictions/6w9s-1/6w9s-1_model.cif.gz",
         "['S185', 'P186', 'Q187', 'S188', 'V189', 'F190', 'S191', 'D192', 'S193', 'V194', 'R198', 'A208', 'L209', 'D210', 'Y213', 'W214', 'Q215', 'G216', 'S217', 'G218', 'G219', 'E220', 'I221', 'M222', 'P223', 'L224', 'V225', 'L226', 'I227', 'D228', 'F229', 'Y230', 'K231', 'R232', 'H233', 'N234', 'I235', 'N236', 'I237', 'N238', 'I239', 'Y240', 'L241', 'N242', 'H243', 'C244', 'K245', 'V246', 'I254', 'L256', 'I257', 'N258', 'A259', 'G260', 'N261', 'H262', 'Y263', 'V279', 'G281', 'D282', 'G283', 'N284', 'C285', 'L286', 'Y287', 'H288', 'V290', 'H294', 'K299', 'N305', 'E306', 'L307', 'K309', 'D310', 'K311', 'P312', 'E313', 'W314', 'C315', 'I316', 'L317', 'K318', 'E319', 'S320', 'L321', 'K322', 'T323', 'H324', 'F325', 'D326', 'K327', 'D328', 'F329', 'D330', 'Q331', 'F332', 'E334', 'Q335', 'K337', 'C338', 'I339', 'L340', 'I341', 'S342', 'E343', 'N344', 'T345', 'H346', 'E347', 'A348', 'N349', 'L352']",
         "['K6', 'T7', 'L8', 'T9', 'G10', 'K11', 'K27', 'D39', 'Q41', 'R42', 'L43', 'I44', 'F45', 'A46', 'G47', 'K48', 'Q49', 'L50', 'E51', 'Y59', 'T66', 'H68', 'L69', 'V70', 'L71', 'R72', 'L73', 'R74', 'G76', 'M77', 'Q78', 'I79', 'F80', 'E92', 'P95', 'I120', 'F121', 'A122', 'G123', 'K124', 'Q125', 'R130', 'L132', 'S133', 'D134', 'Y135', 'N136', 'I137', 'Q138', 'K139', 'E140', 'S141', 'T142', 'K386', 'T387', 'L388', 'T389', 'G390', 'K391', 'T392', 'I393', 'I410', 'Q411', 'D412', 'K413', 'E414', 'G415', 'I416', 'P417', 'Q420', 'Q421', 'R422', 'L423', 'I424', 'F425', 'A426', 'G427', 'K428', 'Q429', 'L430', 'H448', 'L449', 'V450', 'L451', 'R452', 'L453', 'R454', 'G455', 'G456', 'M457', 'Q458', 'E472', 'V473', 'E474', 'P475', 'S476', 'D477', 'T478', 'I479', 'E480', 'N481', 'V482', 'A484', 'K485', 'Q487', 'D488', 'K489', 'D508', 'G509', 'R510', 'T511', 'L512', 'S513', 'D514', 'N516', 'I517', 'Q518']"
        ],
        [
         "13",
         "/cluster/work/beltrao/jjaenes/25.01.28_af3_bacteria_no_templates/alphafold3_predictions/3cal-1/3cal-1_model.cif.gz",
         "['G51', 'C52', 'Y53', 'D54', 'N55', 'G56', 'W65', 'R67', 'T68', 'Y69', 'L70', 'G71', 'N72', 'L74', 'V75', 'C76', 'T77', 'C78', 'Y79', 'G80', 'G81', 'S82', 'R83', 'G84', 'F85', 'N86', 'C87', 'E88', 'S89', 'K90', 'P91', 'E95', 'T96', 'C97', 'F98', 'D99', 'K100', 'Y101', 'G103', 'Y112', 'R114', 'K116', 'D117', 'S118', 'M119', 'I120', 'W121', 'D122', 'C123', 'T124', 'I126', 'G127', 'A128', 'G129', 'R130', 'G131', 'R132', 'I133', 'S134', 'C135', 'T136', 'I137', 'A138', 'N139', 'R140', 'C141', 'H142', 'E143', 'G144', 'G145', 'Q146', 'S147', 'Y148', 'W154', 'R156', 'P157', 'H158', 'E159', 'T160', 'G162', 'Y163', 'M164', 'L165', 'E166', 'C167', 'V168', 'C169', 'L170', 'G171', 'N172', 'G173', 'K174', 'G175', 'E176', 'W177', 'T178', 'C179', 'K180', 'P181', 'I182', 'A183', 'E184', 'K185', 'C186', 'F187', 'D188', 'H189', 'A190', 'A191', 'G192', 'T193', 'S194', 'Y195', 'W201', 'E202', 'K203', 'P204', 'Y205', 'Q206', 'G207', 'W208', 'M209', 'M210', 'V211', 'D212', 'C213', 'T214', 'C215', 'L216', 'G217', 'E218', 'G219', 'S220', 'G221', 'R222', 'I223', 'T224', 'C225', 'T226', 'S227', 'R228', 'N229', 'R230', 'C231', 'N232', 'D233', 'Q234', 'D235', 'T236', 'R237', 'T238', 'S239', 'Y240', 'R241', 'I242', 'G243', 'D244', 'T245', 'W246', 'S247', 'K248', 'K249', 'D250', 'N251', 'R252', 'N254', 'L255', 'L256', 'Q257', 'C258', 'I259', 'C260', 'T261', 'G262', 'N263', 'G264', 'R265', 'G266', 'E267', 'W268', 'K269', 'C270', 'E271', 'R272', 'H273', 'T274', 'S275', 'V276', 'Q277', 'T278', 'T279', 'S280', 'Y294', 'Q295', 'P296', 'Q297', 'P298', 'P300', 'Q301', 'P302', 'P303', 'P304', 'Y305', 'G306', 'H307', 'C308', 'V309', 'T310', 'D311', 'S312', 'G313', 'V314', 'V315', 'Y316', 'S317', 'V318', 'G319', 'W322', 'L323', 'K324', 'Q326', 'N328', 'K329', 'M331', 'T334', 'C335', 'L336', 'G337', 'N338', 'G339', 'V340', 'S341', 'C342', 'Q343', 'E344', 'T345', 'A346', 'P363', 'Q409', 'T410', 'R411', 'G412', 'G413', 'N414', 'S415', 'N416', 'G417', 'A418', 'Y426', 'G438', 'R439', 'R440', 'D441', 'N442', 'M443', 'K444', 'W445', 'T449', 'N451', 'Y452', 'D453', 'A454', 'D455', 'Q456', 'K457', 'F458', 'G459', 'F460', 'C461', 'P462', 'M463', 'A464', 'A465', 'E467', 'E468', 'I469', 'C470', 'T471', 'T472', 'N473', 'E474', 'G475', 'V476', 'M477', 'Y478', 'I480', 'W484', 'D485', 'K486', 'Q487', 'H488', 'D489', 'M490', 'G491', 'H492', 'M493', 'M494', 'R495', 'C496', 'C498', 'G500', 'N501', 'G502', 'R503', 'G504', 'E505', 'W506', 'T507', 'C508', 'I509', 'A510', 'Y511', 'S512', 'Q513', 'L514', 'D516', 'Q517', 'C518', 'I519', 'V520', 'D521', 'D522', 'I523', 'T524', 'N526', 'V527', 'N528', 'D529', 'T530', 'F531', 'H532', 'K533', 'R534', 'H535', 'E536', 'E537', 'G538', 'H539', 'M540', 'L541', 'N542', 'C543', 'T544', 'C545', 'F546', 'G547', 'Q548', 'G549', 'R550', 'G551', 'R552', 'W553', 'K554', 'C555', 'D556', 'P557', 'V558', 'D559', 'Q560', 'C561', 'Q562', 'D563', 'S564', 'E565', 'T566', 'G567', 'T568', 'F569', 'Y570', 'W576', 'K578', 'V580', 'H581', 'G582', 'V583', 'R584', 'Y585', 'Q586', 'C587', 'C589', 'G591', 'R592', 'G593', 'I594', 'G595', 'E596', 'W597', 'H598', 'C599', 'Q600', 'P601', 'L602', 'Q603', 'Y605', 'P611', 'E613', 'E618', 'T619', 'P620', 'S621', 'Q622', 'P623', 'N624', 'S625', 'P627', 'K648', 'N649', 'T667', 'I668', 'K669', 'G670', 'L671', 'V676', 'D696', 'T698', 'T700', 'S701', 'T702', 'S703', 'T704', 'P705', 'V706', 'T707', 'S708', 'N709', 'T710', 'V711', 'T712', 'P720', 'V722', 'A723', 'T724', 'S725', 'E726', 'S727', 'V728', 'T729', 'E730', 'V737', 'V738', 'S739', 'W740', 'V741', 'S742', 'A743', 'S744', 'D745', 'T746', 'V747', 'S748', 'G749', 'F750', 'P769', 'S770', 'T771', 'A772', 'T773', 'S774', 'V775', 'N776', 'Q792', 'I793', 'E795', 'L803', 'E917', 'T919', 'K922', 'N1214', 'G1306', 'F1366', 'I1369', 'G1370', 'P1371', 'T1387', 'N1388', 'P1395', 'V1396', 'K1397', 'S1406', 'I1407', 'S1408', 'P1409', 'S1410', 'D1411', 'A1413', 'V1414', 'L1419', 'L1420', 'P1421', 'G1422', 'T1423', 'E1424', 'Y1425', 'Q1435', 'R1444', 'Q1445', 'K1446', 'T1447', 'G1448', 'L1449', 'D1450', 'S1451', 'P1452', 'T1453', 'G1454', 'I1455', 'D1456', 'W1469', 'I1470', 'A1471', 'P1472', 'R1473', 'A1474', 'T1475', 'I1476', 'T1477', 'G1478', 'Y1479', 'P1498', 'H1499', 'S1500', 'A1521', 'L1522', 'N1523', 'G1524', 'R1525', 'E1526', 'E1527', 'S1528', 'P1529', 'L1531', 'T1827', 'P1855', 'S1871', 'G1872', 'R1912', 'R1926', 'D1955', 'V1956', 'R1957', 'S1958', 'N1980', 'R1982', 'P2034', 'T2211', 'I2212', 'S2213', 'W2214', 'A2215', 'P2216', 'F2217', 'Q2218', 'D2219', 'T2220', 'Y2223', 'T2244', 'T2246', 'S2247', 'A2248', 'A2265', 'K2267', 'D2268', 'Q2270', 'H2272', 'V2274', 'R2275', 'E2277', 'V2279', 'L2289', 'N2290', 'Q2291', 'P2292', 'D2295', 'S2296', 'C2297', 'F2298', 'D2299', 'P2300', 'Y2301', 'T2302', 'V2303', 'H2305', 'W2312', 'R2314', 'M2315', 'S2316', 'E2317', 'S2318', 'G2319', 'F2320', 'K2321', 'L2322', 'L2323', 'C2324', 'L2327', 'G2328', 'F2329', 'G2330', 'S2331', 'G2332', 'H2333', 'F2334', 'R2335', 'C2336', 'D2337', 'S2338', 'S2339', 'R2340', 'W2341', 'C2342', 'H2343', 'D2344', 'N2345', 'G2346', 'W2355', 'R2357', 'Q2358', 'G2359', 'E2360', 'N2361', 'G2362', 'Q2363', 'M2364', 'M2365', 'S2366', 'C2367', 'G2371', 'N2372', 'G2373', 'K2374', 'G2375', 'E2376', 'F2377', 'K2378', 'C2379', 'D2380', 'P2381', 'C2386', 'Y2387', 'D2388', 'D2389', 'G2390', 'K2391', 'W2399', 'K2401', 'Y2403', 'L2404', 'G2405', 'A2406', 'C2408', 'C2410', 'T2411', 'F2413', 'G2415', 'Q2416', 'R2417', 'G2418', 'W2419', 'R2420', 'C2421', 'D2422', 'N2423', 'C2424', 'R2425', 'R2426', 'R2451', 'T2452', 'N2453', 'T2454', 'N2455', 'V2456', 'N2457', 'C2458', 'P2459', 'I2460', 'E2461', 'C2462', 'F2463', 'M2464', 'P2465', 'L2466', 'D2467', 'Q2469']",
         "['M1', 'K2', 'N3', 'N4', 'L5', 'R6', 'Y7', 'G8', 'I9', 'R10', 'K11', 'H12', 'K13', 'L14', 'G15', 'A16', 'A17', 'S18', 'V19', 'F20', 'D54', 'N55', 'K56', 'T57', 'S58', 'E59', 'T60', 'Q61', 'T62', 'T63', 'A64', 'T65', 'N66', 'V67', 'E204', 'I205', 'H211', 'N212', 'N213', 'T214', 'N215', 'L237', 'H238', 'Q239', 'K266', 'N267', 'G268', 'S269', 'V270', 'V271', 'T288', 'N289', 'D290', 'I291', 'E292', 'D293', 'K294', 'D296', 'K386', 'T465', 'D466', 'E467', 'D469', 'E509', 'K510', 'N511', 'G512', 'P513', 'I514', 'I515', 'Q516', 'N517', 'N518', 'K519', 'F520', 'E521', 'Y522', 'K523', 'E524', 'D525', 'T526', 'I527', 'K528', 'E529', 'T530', 'L531', 'T532', 'G533', 'Q534', 'Y535', 'D536', 'K537', 'L539', 'V540', 'T541', 'T542', 'V543', 'E544', 'E545', 'E546', 'Y547', 'D548', 'S549', 'S550', 'T551', 'L552', 'D553', 'I554', 'D555', 'Y556', 'H557', 'T558', 'A559', 'I560', 'Y570', 'I574', 'T577', 'D578', 'S579', 'S580', 'A581', 'I582', 'D583', 'I584', 'D585', 'Y586', 'H587', 'V590', 'D591', 'S592', 'E593', 'A594', 'G595', 'H596', 'V597', 'G598', 'G599', 'Y600', 'T601', 'E602', 'S603', 'S604', 'E605', 'E606', 'S607', 'N608', 'P609', 'I610', 'D611', 'F612', 'E613', 'E614', 'S615', 'T616', 'H617', 'E618', 'N619', 'S620', 'K621', 'H622', 'H623', 'A624', 'D625', 'V626', 'V627', 'E628', 'Y629', 'E630', 'E631', 'D632', 'T633', 'N634', 'P635', 'G636', 'G637', 'G638', 'Q639', 'V640', 'T641', 'T642', 'E643', 'S644', 'N645', 'L646', 'V647', 'E648', 'F649', 'D650', 'E651', 'E652', 'S653', 'T654', 'K655', 'G656', 'I657', 'V658', 'T659', 'G660', 'A661', 'V662', 'S663', 'D664', 'H665', 'T666', 'T667', 'V668', 'E669', 'D670', 'T671', 'K672', 'E673', 'Y674', 'T675', 'T676', 'E677', 'S678', 'N679', 'L680', 'I681', 'E682', 'L683', 'V684', 'D685', 'E686', 'L687', 'P688', 'E689', 'E690', 'H691', 'G692', 'Q693', 'A694', 'Q695', 'G696', 'P697', 'V698', 'E699', 'E700', 'I701', 'T702', 'K703', 'N704', 'N705', 'H706', 'H707', 'I708', 'S709', 'H710', 'S711', 'G712', 'L713', 'G714', 'T715', 'E716', 'N717', 'G718', 'H719', 'G720', 'N721', 'Y722', 'D723', 'V724', 'I725', 'E726', 'E727', 'I728', 'E729', 'E730', 'N731', 'S732', 'H733', 'V734', 'D735', 'L740', 'G741', 'Y742', 'E743', 'G744', 'G745', 'Q746', 'N747', 'S748', 'G749', 'N750', 'Q751', 'S752', 'F753', 'E754', 'E755', 'D756', 'T757', 'E758', 'E759', 'D760', 'K761', 'P762', 'K763', 'Y764', 'E765', 'Q766', 'G767', 'G768', 'N769', 'I770', 'V771', 'D772', 'I773', 'D774', 'F775', 'D776', 'S777', 'V778', 'Q780', 'I781', 'H782', 'G783', 'Q784', 'N785', 'K786', 'G787', 'N788', 'Q789', 'S790', 'F791', 'E792', 'E793', 'D794', 'T795', 'E796', 'K797', 'D798', 'K799', 'P800', 'K801', 'Y802', 'E803', 'H804', 'G805', 'G806', 'N807', 'I808', 'I809', 'D810', 'I811', 'D812', 'F813', 'D814', 'S815', 'V816', 'P817', 'H818', 'I819', 'H820', 'G821', 'F822', 'K824', 'K835', 'D849', 'F850', 'E851', 'E852', 'D853', 'T854', 'L855', 'P856', 'K857', 'V858', 'S859', 'G860', 'Q861', 'N862', 'E863', 'G864', 'Q865', 'Q866', 'T867', 'I868', 'E869', 'E870', 'D871', 'T872', 'T873', 'P874', 'P875', 'I876', 'V877', 'P878', 'P879', 'T880', 'P881', 'P882', 'T883', 'P884', 'E885', 'V886', 'P887', 'S888', 'E941', 'E942', 'P943', 'K944', 'K945', 'P946', 'S947', 'K948', 'P949', 'V950']"
        ],
        [
         "14",
         "/cluster/work/beltrao/jjaenes/25.01.28_af3_bacteria_no_templates/alphafold3_predictions/7xli-1/7xli-1_model.cif.gz",
         "['A7', 'P8', 'Y9', 'K11', 'A12', 'K13', 'T14', 'E16', 'R17', 'Q18', 'Y20', 'E21', 'K24', 'V79', 'Y80', 'E81', 'S82', 'V83', 'E84', 'N85', 'N86', 'E87', 'S88', 'M89', 'M90', 'D91', 'T92', 'F93', 'N115', 'Y118', 'W119', 'V158', 'K159', 'V160', 'H161', 'V162', 'K163', 'T164', 'I165', 'D166', 'Y167', 'D168', 'G169', 'Q170', 'Y171', 'H172', 'V173', 'R174']",
         "['F27', 'D30', 'D31', 'V32', 'D33', 'N34', 'F35', 'I36', 'G50', 'V51', 'S52', 'F53', 'L54', 'R55', 'K56', 'Y57', 'D58', 'M59', 'S60', 'T61', 'Y62', 'Y63', 'A64', 'E65', 'S66', 'V67', 'K68', 'D102', 'R103', 'E104', 'G105', 'F106', 'V107', 'F108', 'E109', 'Q110', 'G111', 'M112', 'D113', 'F114']"
        ],
        [
         "15",
         "/cluster/work/beltrao/jjaenes/25.01.28_af3_bacteria_no_templates/alphafold3_predictions/8h3y-1/8h3y-1_model.cif.gz",
         "['I204', 'K205', 'T206', 'P207', 'Q208', 'V209', 'P210', 'H211', 'Y277', 'S278', 'C279', 'P280', 'S281', 'D283', 'A284', 'K285', 'E286', 'G287', 'L288', 'E289', 'G290', 'F291', 'T292', 'A293', 'S294', 'L295', 'K296', 'S297', 'N298', 'E302', 'W326', 'V332', 'A335', 'S336', 'D337', 'F338', 'E339', 'S341']",
         "['V2', 'Y24', 'G26', 'Q27', 'T28', 'F29', 'S30', 'A31', 'W32', 'A33', 'N52', 'W53', 'N54', 'E56', 'R57', 'Q59', 'N74', 'S98', 'M99', 'M100', 'G101', 'T102', 'Y103', 'Y104', 'S105', 'G106', 'S107', 'P108', 'K109', 'N110']"
        ],
        [
         "16",
         "/cluster/work/beltrao/jjaenes/25.01.28_af3_bacteria_no_templates/alphafold3_predictions/4did-1/4did-1_model.cif.gz",
         "['M1', 'Q2', 'T3', 'I4', 'K5', 'C6', 'V7', 'V8', 'L20', 'I21', 'S22', 'Y23', 'T24', 'T25', 'N26', 'K27', 'Y32', 'P34', 'T35', 'V36', 'F37', 'D38', 'N39', 'Y40', 'A41', 'V42', 'T43', 'V44', 'M45', 'I46', 'G47', 'G48', 'E49', 'P50', 'Y51', 'T52', 'L53', 'G54', 'L55', 'F56', 'D57', 'T58', 'A59', 'G60', 'Q61', 'E62', 'D63', 'Y64', 'D65', 'R66', 'L67', 'R68', 'P69', 'L70', 'S71', 'Y72', 'P73', 'Q74', 'T75', 'D76', 'V77', 'E100', 'T102', 'H103', 'H104', 'C105', 'P106', 'K153', 'Q162', 'L165', 'K166', 'N167', 'F169', 'D170', 'E171', 'A172', 'I173', 'L174', 'A175', 'A176', 'L177', 'E178', 'P179', 'P182']",
         "['A17', 'S20', 'L21', 'Q22', 'T24', 'L25', 'Y26', 'A38', 'P39', 'A40', 'A42', 'A45', 'R46', 'P47', 'E48', 'I49', 'I50', 'V51', 'L52', 'R53', 'E54', 'P55', 'G56', 'A57', 'T58', 'W59', 'G60', 'Y62', 'L73', 'H74', 'L76', 'Y77', 'Q80', 'R81', 'L83', 'L84', 'A87', 'L91', 'Q94', 'D95', 'P96', 'V97', 'L98', 'T99', 'S100', 'M101', 'A102', 'N103', 'Q104', 'M105', 'E106', 'L107', 'A108', 'K109', 'V110', 'K111', 'A112', 'D113', 'R114', 'P115', 'A116', 'T117', 'Q119', 'E120', 'E121', 'A122', 'A123', 'A124', 'K125', 'A126', 'L127', 'K128', 'K129', 'N130', 'L131', 'I132', 'E133', 'L134', 'R138']"
        ],
        [
         "17",
         "/cluster/work/beltrao/jjaenes/25.01.28_af3_bacteria_no_templates/alphafold3_predictions/1k90-2/1k90-2_model.cif.gz",
         "['N46', 'H47', 'T49', 'E50', 'K53', 'T54', 'E57', 'K58', 'K60', 'D61', 'N64', 'N65', 'A498', 'P499', 'L501', 'T502', 'I504', 'K505', 'K506', 'I508', 'Q510', 'W513', 'D514', 'V516', 'V517', 'N518', 'T519', 'P520', 'N521', 'S522', 'L523', 'E524', 'K525', 'Q526', 'K527', 'G528', 'V529', 'T530', 'N531', 'L532', 'L533', 'I534', 'K535', 'Y536', 'G537', 'I538', 'E539', 'R540', 'K541', 'P542', 'T548', 'L549', 'S550', 'Q553', 'T579', 'Q581', 'D582', 'G612', 'I615', 'E616', 'K617', 'N618', 'I619', 'T620', 'G621', 'K622', 'D623', 'Y624', 'L625', 'Y626', 'Y627', 'F628', 'N629', 'R630', 'S631', 'Y632', 'N633', 'K634', 'I635', 'A636', 'P637', 'G638', 'N639', 'Y642', 'T646', 'T659', 'S660', 'A661', 'E662', 'F663', 'I664', 'K665', 'N666', 'L667', 'S668', 'S669', 'I670', 'R671', 'R672', 'V676', 'G677', 'V678', 'Y679', 'D684', 'E687', 'F688', 'A689', 'K690', 'K691', 'E692', 'S693', 'V694', 'K695', 'K696', 'I697', 'A698', 'G699', 'L701', 'S702', 'D703', 'Y705', 'N706', 'N709', 'H710', 'S713', 'Q714', 'K717', 'Y745']",
         "['T6', 'E7', 'E8', 'Q9', 'I10', 'A11', 'E12', 'F13', 'K14', 'E15', 'A16', 'F17', 'S18', 'L19', 'F20', 'D21', 'K22', 'D23', 'G24', 'D25', 'G26', 'T27', 'I28', 'T29', 'E32', 'G34', 'T35', 'V36', 'M37', 'R38', 'S39', 'L40', 'G41', 'Q42', 'N43', 'T45', 'A47', 'E48', 'D51', 'K78', 'D79', 'T80', 'D81', 'S82', 'E83', 'E84', 'E85', 'I86', 'R87', 'E88', 'A89', 'F90', 'R91', 'V92', 'F93', 'D94', 'K95', 'D96', 'G97', 'N98', 'G99', 'Y100', 'S102', 'A103', 'A104', 'E105', 'L106', 'R107', 'H108', 'V109', 'M110', 'T111', 'N112', 'L113', 'G114', 'E115', 'K116', 'L117', 'T118', 'D119', 'E120', 'E121', 'V122', 'D123', 'E124', 'M125', 'I126', 'R127', 'E128', 'A129', 'D132', 'G133', 'D134', 'G135', 'Q136', 'N138', 'Y139', 'E140', 'E141', 'F142', 'V143', 'Q144', 'M145', 'M146', 'T147', 'A148', 'K149']"
        ],
        [
         "18",
         "/cluster/work/beltrao/jjaenes/25.01.28_af3_bacteria_no_templates/alphafold3_predictions/3tnf-1/3tnf-1_model.cif.gz",
         "['M1', 'A2', 'K3', 'T4', 'Y5', 'L8', 'F9', 'K10', 'S17', 'G18', 'V19', 'G20', 'T22', 'F26', 'S29', 'E30', 'D31', 'A32', 'F33', 'N34', 'S35', 'T36', 'F37', 'I38', 'S39', 'T40', 'I41', 'G42', 'I43', 'D44', 'F45', 'K46', 'I47', 'K58', 'L59', 'Q60', 'I61', 'W62', 'D63', 'T64', 'A65', 'Q67', 'E68', 'R69', 'F70', 'R71', 'T72', 'I73', 'T74', 'T75', 'A76', 'Y77', 'Y78', 'R79', 'G80', 'M82', 'D89', 'I90', 'T91', 'N92', 'E93', 'K94', 'S95', 'D97', 'N98', 'R100', 'N101', 'I103', 'R104', 'N105', 'I106', 'E107', 'E108', 'H109', 'A110', 'S111', 'A112', 'K116', 'K122', 'V125', 'N126', 'D127', 'K128', 'R129', 'Q130', 'V131', 'R135', 'Y143', 'S200', 'F201', 'F202', 'R203', 'C204', 'V205', 'L207']",
         "['K225', 'K228', 'L229', 'Q232', 'G233', 'D235', 'L236', 'K239', 'Y240', 'Y243', 'L247', 'E267', 'K268', 'A271', 'F272', 'K274', 'D275', 'S276', 'K278', 'L279', 'T280', 'Q281', 'L282', 'M283', 'K285', 'H286', 'D289', 'K291', 'T292', 'V293', 'Q294', 'S295', 'L296', 'Q297', 'R298', 'E299', 'H300', 'D302', 'I303', 'K306', 'L394', 'I395', 'H396', 'L398', 'S399', 'L400', 'E401', 'M402', 'E403', 'K404', 'Q405', 'L406', 'E407', 'T408', 'I409', 'N410', 'N411', 'L412', 'I413', 'M414', 'S415', 'T416', 'D417', 'P418', 'E420', 'N421', 'E422', 'E423', 'A424', 'T425', 'K426', 'L427', 'L428', 'H429', 'H431', 'N432', 'G433', 'L434', 'N435', 'L436', 'K437', 'L438', 'A439', 'N440', 'L441', 'Q442', 'D443', 'A446', 'E451', 'K452', 'F454', 'H469', 'Y470', 'V471', 'I472', 'Q476', 'E518', 'K521', 'K522', 'A523', 'E524', 'H525', 'D526', 'F527', 'H528', 'K529', 'L530', 'Q531', 'Y532', 'E533', 'T534', 'P535', 'M536', 'T537', 'V538', 'K539', 'K540', 'L541', 'V542', 'H543', 'H544', 'N545', 'K546', 'G547', 'L548', 'E549', 'T550', 'T551', 'I552', 'H553', 'K554', 'R556']"
        ],
        [
         "19",
         "/cluster/work/beltrao/jjaenes/25.01.28_af3_bacteria_no_templates/alphafold3_predictions/2cv3-1/2cv3-1_model.cif.gz",
         "['P21', 'E22', 'T23', 'N24', 'A25', 'R26', 'V27', 'L44', 'Y46', 'A53', 'H54', 'T55', 'C56', 'G57', 'T68', 'A69', 'A70', 'H71', 'C72', 'V73', 'D74', 'R75', 'L77', 'F79', 'W109', 'N110', 'T111', 'D112', 'D113', 'V114', 'A115', 'A116', 'G117', 'D119', 'I155', 'W158', 'G159', 'L160', 'T163', 'N164', 'G165', 'Q166', 'L167', 'W190', 'T193', 'V194', 'M198', 'S208', 'G209', 'C210', 'Q211', 'G212', 'D213', 'S214', 'G215', 'V231', 'T232', 'S233', 'F234', 'V235', 'S236', 'R237', 'L238', 'G239', 'C240', 'N241', 'V242', 'K245', 'T247', 'V248', 'F249']",
         "['T1', 'T2', 'L3', 'K4', 'F5', 'P6', 'S7', 'D8', 'W9', 'D10', 'D11']"
        ],
        [
         "20",
         "/cluster/work/beltrao/jjaenes/25.01.28_af3_bacteria_no_templates/alphafold3_predictions/7aye-1/7aye-1_model.cif.gz",
         "['G284', 'E285', 'S286', 'D287', 'T288', 'D289', 'S290', 'F291', 'E292', 'E293', 'E310', 'P316', 'H318', 'C319', 'N320', 'R321', 'C322', 'W323', 'A324', 'F462', 'K466', 'K469', 'K470', 'M484', 'I485', 'V486', 'L487', 'T488', 'Y489']",
         "['G196', 'G197', 'K198', 'R200', 'F260', 'G261', 'L262', 'Q266', 'P268', 'S269', 'S270', 'L271', 'Q272', 'T273', 'R274', 'T276', 'L277', 'N280', 'R281', 'N348', 'R349', 'K353', 'S354', 'G355', 'P356', 'W357', 'M358', 'E359', 'Q360', 'K362', 'T363', 'Q407']"
        ],
        [
         "21",
         "/cluster/work/beltrao/jjaenes/25.01.28_af3_bacteria_no_templates/alphafold3_predictions/3buz-1/3buz-1_model.cif.gz",
         "['Y101', 'D102', 'Y103', 'Q104', 'E106', 'S107', 'N285', 'D286', 'M288', 'R289', 'G290', 'G291', 'Y292', 'T293', 'R337', 'S338', 'G339', 'P340', 'Q341', 'E342', 'T346', 'L347', 'T348', 'Y352', 'V385', 'N386', 'M387', 'S388', 'A389', 'F390', 'A391', 'K392', 'R393', 'K394', 'I395', 'I413', 'P414', 'G415', 'Y416', 'A417', 'G418', 'E419', 'Y420', 'K445']",
         "['E74', 'H75', 'I77', 'I78', 'T79', 'N80', 'W81', 'L112', 'N113', 'P114', 'K115', 'A116', 'N117', 'N164', 'H175', 'A176', 'I177', 'M178', 'R179', 'L180', 'D181', 'F264', 'Q265', 'P266', 'S267', 'F268', 'I269', 'G270', 'M271', 'E272', 'S273', 'A274', 'G275', 'H277', 'E278', 'T279', 'T280', 'Y281', 'N282', 'S283', 'I284', 'M285', 'K286', 'C287', 'D288', 'I289', 'R292', 'L322']"
        ],
        [
         "22",
         "/cluster/work/beltrao/jjaenes/25.01.28_af3_bacteria_no_templates/alphafold3_predictions/4nzl-1/4nzl-1_model.cif.gz",
         "['L26', 'S28', 'R35', 'S46', 'L47', 'Q48', 'L49', 'R50', 'G51', 'G52', 'H53', 'F54', 'C55', 'G56', 'A68', 'A69', 'H70', 'C71', 'V72', 'A73', 'N74', 'V75', 'V83', 'N88', 'L89', 'S90', 'R91', 'R96', 'Y109', 'D110', 'P111', 'V112', 'N113', 'L114', 'L115', 'D117', 'W156', 'G157', 'L158', 'L159', 'G160', 'R161', 'N162', 'R163', 'G164', 'I165', 'A166', 'S167', 'V168', 'Q170', 'R182', 'N185', 'G196', 'V197', 'C198', 'F199', 'G200', 'D201', 'S202', 'G203', 'S204', 'A216', 'S217', 'F218', 'V219', 'R220', 'G221', 'G222', 'C223', 'A224', 'Y228', 'D230', 'A231', 'F232']",
         "['S32', 'N33', 'N34', 'G35', 'Y36', 'K37', 'E38', 'L39', 'T40', 'M41', 'D42', 'K44', 'T46', 'P48', 'Y49', 'T50', 'I51', 'S52', 'V53', 'D54', 'G55', 'I56', 'T57', 'A58', 'L59', 'H60', 'R61', 'T62', 'Y63', 'V65', 'N83', 'E84', 'L85', 'A86', 'S87', 'Q88', 'R89', 'G90', 'V91', 'T92', 'K95', 'T107', 'K113', 'K134', 'Q135', 'I136', 'Q137', 'K141']"
        ],
        [
         "23",
         "/cluster/work/beltrao/jjaenes/25.01.28_af3_bacteria_no_templates/alphafold3_predictions/2wok-1/2wok-1_model.cif.gz",
         "['S40', 'A41', 'D42', 'V43', 'D44', 'S45', 'L46', 'D47', 'R50', 'T51', 'Y52', 'Y53', 'V54', 'W55', 'V56', 'W57', 'V127', 'F128', 'A129', 'Q130', 'D131', 'V132', 'L133', 'P134', 'G135', 'G136', 'P137', 'T138', 'Y139', 'I141', 'P142', 'D145', 'D146', 'P147', 'E148', 'R149', 'P150', 'Y151', 'P152', 'G153', 'P154', 'Y155', 'R156', 'T157', 'D158', 'E159', 'Q189', 'R197', 'R198', 'D200', 'T201', 'G202', 'A203', 'D204', 'Y205', 'G206', 'R207', 'D208', 'P209', 'H220', 'E221', 'P222', 'D223', 'D256', 'V257', 'D258', 'N272', 'L273', 'E274', 'G275', 'R276', 'G277', 'L278', 'Q279', 'R284', 'T301', 'F303', 'L304', 'H305', 'F306', 'Q398', 'R399', 'G400', 'K401', 'F402', 'D426', 'V427', 'A428', 'T429', 'Y430', 'F431', 'S432', 'L433', 'G434', 'G436', 'H437', 'P438', 'E439', 'R442', 'E443', 'T451', 'D452', 'W453', 'G454', 'A455', 'D456', 'F457', 'G462', 'P466', 'L467', 'Q472', 'K474', 'R475', 'N476', 'G477', 'G478', 'N479', 'W480', 'E484', 'D529', 'T531', 'H533', 'F548', 'G549', 'L550']",
         "['Q86', 'S87', 'G88', 'Q172', 'H173', 'S174', 'S175', 'L176', 'Q203', 'T204', 'N205', 'C206', 'S207', 'K208', 'E209', 'N210', 'F211', 'L212', 'D217', 'C218', 'K219', 'S220', 'L221', 'W222', 'N223', 'K254', 'D255', 'F256', 'V257', 'Q258', 'P259', 'P260', 'T261', 'D270', 'P272', 'T273', 'N274', 'N303', 'V304', 'K305', 'K306', 'R308', 'D320', 'F321', 'R324', 'K343', 'K344', 'L345', 'G346', 'Q347', 'S348', 'D350', 'C351', 'N352', 'Q371', 'L373', 'G374', 'M375', 'I376', 'S377', 'L378', 'M379', 'K380', 'R381', 'P382', 'P383', 'G384', 'F385', 'S386', 'P387', 'F388', 'R389', 'S390', 'S391', 'R392', 'I393', 'G394', 'I396', 'K397', 'E399']"
        ],
        [
         "24",
         "/cluster/work/beltrao/jjaenes/25.01.28_af3_bacteria_no_templates/alphafold3_predictions/4kbb-1/4kbb-1_model.cif.gz",
         "['F26', 'R28', 'Y54', 'I65', 'F66', 'N67', 'R68', 'D69', 'V70', 'C71', 'E72', 'Y74', 'P165', 'V166', 'N168', 'E169', 'N170', 'E171', 'T172', 'I173', 'D174', 'I175', 'G176', 'I177', 'Q178', 'N179', 'H180', 'F181', 'R184', 'M191', 'Q192', 'M193', 'K194', 'F195', 'Y199', 'V200', 'S201', 'V202', 'F203', 'N204', 'N205', 'Q207', 'Y220', 'F221', 'S222', 'D223', 'P224', 'A225', 'L226', 'I227', 'L228', 'M229', 'H230', 'E231', 'H234', 'V235', 'K243', 'D245', 'P248', 'I249', 'V250', 'P251', 'K255', 'F256', 'F257', 'Q259', 'S260', 'T261', 'D262', 'A263', 'I264', 'Q265', 'E267', 'E268', 'L269', 'T271', 'F272', 'D276', 'I279', 'E358', 'K368', 'T369', 'R370', 'A371', 'S372', 'Y373', 'F374', 'S375', 'D376', 'S377', 'L378', 'P379', 'P380', 'K426', 'L429', 'V431', 'Y432', 'K433', 'V449', 'D450', 'N451', 'E452', 'D453', 'L454', 'F455', 'F456', 'I457', 'V516', 'D517', 'V518', 'P519', 'V520', 'Y521', 'E522', 'Q524', 'T532', 'D533', 'E534', 'N535', 'T536', 'N609', 'T610', 'M611', 'D612', 'K613', 'I614', 'A615', 'D616', 'I617', 'S618', 'L619', 'G631', 'E633', 'T634', 'N638', 'E640', 'N641', 'A642', 'F643', 'E644', 'I645', 'A646', 'G647', 'S649', 'I650', 'L652', 'E653', 'I655', 'L705', 'S706', 'V708', 'N709', 'T710', 'Q711', 'F712', 'Y713', 'T714', 'I715', 'E717', 'K721', 'S781', 'K785', 'K786', 'Y856', 'S858', 'E859', 'I860', 'L861', 'N862', 'N863', 'D925', 'N969', 'R970', 'F987', 'E988', 'Y989', 'N990', 'I991', 'R992', 'E993', 'D994', 'I995', 'S996', 'E997', 'Y998', 'I999', 'R1001', 'N1010', 'N1012', 'N1013', 'K1015', 'Y1017', 'I1018', 'N1019', 'K1021', 'E1023', 'T1064', 'E1065', 'L1066', 'S1067', 'Q1068', 'S1069', 'N1070', 'I1071', 'E1072', 'E1073', 'R1074', 'I1077', 'N1102', 'A1103', 'G1104', 'N1105', 'K1106', 'N1107', 'S1108', 'T1123', 'K1126', 'Q1129', 'S1131', 'K1132', 'Y1133', 'I1134', 'N1135', 'Y1136', 'Q1216', 'I1240', 'R1242', 'D1255', 'Y1263', 'K1270', 'Y1272', 'N1273', 'L1274', 'K1275', 'L1276', 'G1277', 'C1278']",
         "['M1', 'R2', 'N3', 'I4', 'F5', 'K6', 'R7', 'N8', 'Q9', 'E10', 'P11', 'N12', 'V13', 'A14', 'P15', 'E41', 'S42', 'Q43', 'E44', 'M46', 'F47', 'L50', 'K51', 'F54', 'F55', 'A171', 'L172', 'D173', 'M174', 'G175', 'G176', 'T177', 'S178', 'D179', 'P180', 'V198', 'H199', 'R200', 'K201', 'D231', 'F232', 'D233', 'R234', 'F235', 'S236', 'K237', 'H238', 'D239', 'I240', 'I241', 'K268', 'E270', 'R282', 'Y283', 'V284', 'P285', 'T286', 'A287', 'G288', 'K289', 'P349', 'F350', 'E351', 'I353', 'Q354', 'S381', 'N382', 'A383', 'T384', 'G385', 'T386', 'E387', 'L388', 'R389', 'H390', 'W391', 'S392', 'D393', 'M394', 'L395', 'A396', 'N397', 'P398', 'R399', 'R400', 'P401', 'I402', 'A403', 'Q404', 'W405', 'H406', 'K409']"
        ],
        [
         "25",
         "/cluster/work/beltrao/jjaenes/25.01.28_af3_bacteria_no_templates/alphafold3_predictions/2aq2-1/2aq2-1_model.cif.gz",
         "['N35', 'N36', 'H37', 'D38', 'Y39', 'I54', 'H55', 'Y56', 'S57', 'Y58', 'V59', 'A60', 'D61', 'S62', 'T63', 'E64', 'K65', 'G66', 'P69', 'D70', 'G71', 'Y72', 'K73', 'A74', 'S75', 'R76', 'P77', 'S78', 'Q79', 'E80', 'N81', 'F82', 'S83', 'L84', 'I85', 'E87', 'S102', 'G103', 'T104', 'G105', 'D109']",
         "['F44', 'T45', 'G46', 'T47', 'M48', 'G49', 'N50', 'M51', 'K52', 'Y53', 'L54', 'D56', 'H58', 'Y59', 'D82', 'L85', 'K86', 'N87', 'Y88', 'N115', 'Y116', 'Y117', 'V118', 'N119', 'C120', 'N127', 'V128', 'G129', 'K130', 'V131', 'T132', 'G133', 'G134', 'K135', 'T136', 'E202', 'F203', 'N204', 'S205', 'G232', 'D233', 'K234', 'F235', 'D236', 'Q237']"
        ],
        [
         "26",
         "/cluster/work/beltrao/jjaenes/25.01.28_af3_bacteria_no_templates/alphafold3_predictions/6ggr-1/6ggr-1_model.cif.gz",
         "['P27', 'K28', 'Q29', 'R30', 'G31', 'M32', 'R33', 'F34', 'R35', 'Y36', 'K37', 'C38', 'E39', 'G40', 'R41', 'S42', 'A43', 'G44', 'S45', 'I46', 'P47', 'G48', 'S51', 'T52', 'D53', 'T54', 'K56', 'N115', 'I118', 'Q119', 'C120', 'V121', 'K122', 'K123', 'R124', 'D125', 'L154', 'N155', 'I183', 'F184', 'D185', 'N186', 'R187', 'A188', 'P189', 'N190', 'A192', 'E193', 'K195', 'C197', 'C216', 'D217', 'K218', 'V219', 'Q220', 'K221', 'E222', 'D223', 'Q241', 'V244', 'H245', 'R246', 'Q247', 'V248']",
         "['G70', 'G71', 'M72', 'D73', 'P74', 'D75', 'I76', 'E77', 'I78', 'D79', 'D80', 'D81', 'T82', 'Y83', 'D84', 'E85', 'C86', 'E88', 'R92', 'G126', 'A127', 'G128', 'E129', 'N130', 'F131', 'G132', 'T133', 'T134', 'V135', 'T136', 'D137', 'E138', 'D139', 'L140', 'E141', 'S142', 'S143', 'E144', 'G145', 'R146', 'A150', 'L151', 'N152', 'L153', 'D154', 'D155', 'T156', 'D157', 'D158', 'D159', 'S160', 'I161', 'P162', 'E163', 'Y164', 'P171', 'Q173', 'F174', 'D175', 'T176', 'R178', 'S179', 'F180', 'I181', 'H182', 'E183', 'H186', 'D193', 'K194', 'R221', 'Y224', 'E225', 'F226', 'N228']"
        ],
        [
         "27",
         "/cluster/work/beltrao/jjaenes/25.01.28_af3_bacteria_no_templates/alphafold3_predictions/6dbf-1/6dbf-1_model.cif.gz",
         "['Q80', 'I81', 'I82', 'A83', 'N84', 'K102', 'L103', 'F104', 'L105', 'N106', 'G123', 'W124', 'L125', 'F126', 'L127', 'D128', 'K145', 'S146', 'L147', 'S148', 'E150', 'E167', 'S168', 'L169', 'Y170', 'L171', 'G172', 'N173', 'K187', 'L188', 'D189', 'T190', 'L191', 'S192', 'L193', 'E194', 'K209', 'Q211', 'N212', 'L213', 'Y214', 'L215', 'S216', 'K217', 'N231', 'L232', 'D233', 'V234', 'L235', 'E236', 'L237', 'F238', 'G305', 'K306', 'A307', 'K308', 'A309', 'R310']",
         "['T28', 'Y29', 'S30', 'T31', 'Y32', 'C33', 'E44', 'R50', 'I51', 'N52', 'V53', 'G54', 'G55', 'S56', 'S57', 'T58', 'Q72', 'K76', 'H99', 'R100', 'F101', 'C102', 'N103', 'T104', 'W105', 'S106', 'L107', 'G108', 'T109', 'L110', 'N111']"
        ],
        [
         "28",
         "/cluster/work/beltrao/jjaenes/25.01.28_af3_bacteria_no_templates/alphafold3_predictions/7s0z-1/7s0z-1_model.cif.gz",
         "['M1', 'K70', 'K73', 'K74', 'E77', 'Y78', 'P164', 'E165', 'F166', 'N167', 'H168', 'T169', 'A170', 'F172', 'R173', 'K174', 'M176', 'Q177', 'A266', 'D270', 'R273', 'D286', 'D288', 'M289', 'P295', 'F298', 'K299', 'D300', 'I301', 'N302', 'K303', 'P304', 'D305', 'K308', 'T309', 'A310', 'V311', 'D312', 'W313', 'E315', 'Q317', 'H335', 'D340', 'E342', 'V343', 'S346', 'A377', 'F378', 'A379', 'K380', 'G381', 'S382', 'I383', 'I384', 'D385', 'Q386', 'R407', 'D424', 'F425', 'N426', 'T427', 'T428', 'M429', 'N430', 'N431', 'F432', 'G433', 'E434', 'S435', 'L436', 'G437', 'A438', 'I439', 'A440', 'N441', 'E442', 'E443', 'N444', 'I445', 'S446', 'F447', 'I448', 'A449', 'K450', 'I451', 'G452', 'S453', 'Y454', 'R456', 'V457', 'Y460', 'P461', 'E462', 'A463', 'N464', 'T465', 'T466', 'I467', 'T468', 'L469', 'G471', 'P472', 'T473', 'I474', 'Y475', 'A476', 'G477', 'K480', 'I490', 'D491', 'T492', 'S493', 'I494', 'L495', 'S496', 'S497', 'E498', 'L499', 'R500', 'K506', 'Q511', 'A512', 'T513', 'Q515', 'E516', 'K517', 'N518', 'S519', 'L520', 'W521', 'Q522', 'F523', 'N524', 'E525', 'E526', 'R527', 'K529', 'F659', 'N660', 'F702', 'S703', 'Y704', 'S705', 'V706', 'N707', 'V708', 'E709', 'E710', 'T711', 'Q742', 'S774', 'E777', 'Y778', 'I779', 'K787', 'I788', 'I789', 'V790', 'K791', 'S792', 'N794', 'L795', 'P796', 'E797', 'L798', 'S799', 'T800', 'L801', 'L802', 'Q803', 'E804', 'R806', 'N807', 'E826', 'V829', 'I830', 'I833', 'E834', 'T835', 'Q836', 'V837', 'V838', 'E839', 'E840', 'R841', 'I842', 'E843', 'E844', 'A845', 'K846', 'S847', 'L848', 'T849', 'S850', 'D851', 'S852', 'I853', 'N854', 'K857', 'L960', 'F964', 'N1442', 'F1479', 'T1480', 'K1481', 'E1482', 'K1497', 'V1498', 'Y1499', 'D1501', 'N1502', 'S1503', 'K1504', 'P1505', 'P1506', 'F1507', 'G1508', 'Y1509', 'D1516', 'I1520', 'T1521', 'K1522', 'D1523', 'V1525', 'I1527', 'I1528', 'T1529', 'G1530', 'Y1531', 'K1538', 'I1539', 'S1540', 'L1541', 'S1542', 'I1545', 'Q1546', 'D1547', 'K1548', 'N1549', 'T1550', 'I1551', 'K1552', 'N1554', 'G1555', 'V1556', 'Y1557', 'L1558', 'D1559', 'K1597', 'S1598', 'L1599', 'S1601', 'N1602', 'K1604', 'I1606', 'L1607', 'D1608', 'T1609', 'N1610', 'F1611', 'I1612', 'I1613', 'S1614', 'G1615', 'T1616', 'Q1621', 'E1623', 'Y1825', 'N1827', 'N1828', 'L1829', 'M1831', 'M1832', 'V1833', 'S1834', 'G1835', 'L1836', 'V1837', 'Y1838', 'I1839', 'N1840', 'D1841', 'S1842', 'L1843', 'Y1844', 'Y1845', 'F1846', 'K1847', 'P1848', 'K1851', 'I1860', 'G1861', 'D1862', 'D1863', 'K1864', 'Y1865', 'Y1866', 'F1867', 'A1875', 'S1876', 'V1877', 'F1889', 'S1890', 'Q1891', 'N1892', 'G1893', 'V1894', 'L1895', 'Q1896', 'T1897', 'P1911', 'I1931', 'I1932', 'D1933', 'E1934', 'S1982', 'N1992', 'I1993', 'N1994', 'D1995', 'H2042', 'H2043', 'E2045', 'E2051', 'N2062', 'N2064', 'N2065', 'K2066', 'I2067', 'I2100', 'D2114', 'S2115']",
         "['M1', 'S2', 'S3', 'G4', 'A5', 'A6', 'S7', 'G8', 'T9', 'G10', 'R11', 'R13', 'P14', 'R15', 'G16', 'G17', 'G18', 'P19', 'G20', 'P21', 'G22', 'D23', 'P24', 'T29', 'K31', 'V33', 'G36', 'G37', 'G38', 'G39', 'V40', 'G41', 'K42', 'S43', 'A44', 'I47', 'Q48', 'I50', 'Q51', 'S52', 'Y53', 'F54', 'V55', 'S56', 'D57', 'Y58', 'D59', 'P60', 'T61', 'I62', 'E63', 'D64', 'S65', 'Y66', 'T67', 'K68', 'I69', 'C70', 'D73', 'G74', 'A77', 'R78', 'L79', 'D80', 'I81', 'L82', 'D83', 'T84', 'A85', 'G86', 'Q87', 'E88', 'E89', 'F90', 'G91', 'A92', 'M93', 'R94', 'E95', 'Q96', 'Y97', 'M98', 'R99', 'A100', 'G101', 'H102', 'A109', 'I110', 'N111', 'D112', 'R113', 'Q114', 'S115', 'F116', 'N117', 'E118', 'V119', 'G120', 'K121', 'F123', 'T124', 'L127', 'K130', 'R132', 'D133', 'D134', 'F135', 'P136', 'V137', 'V138', 'K143', 'A144', 'D145', 'L146', 'E147', 'S148', 'Q149', 'R150', 'Q151', 'V152', 'P153', 'R154', 'S155', 'E156', 'A157', 'S158', 'A159', 'F160', 'G161', 'A162', 'S163', 'H164', 'H165', 'V166', 'A167', 'Y168', 'F169', 'E170', 'S172', 'K174', 'L175', 'L177', 'E181', 'A182', 'E184', 'Q185', 'L186', 'V187', 'R188', 'A189', 'V190', 'R191', 'K192', 'Y193', 'Q194', 'E195', 'Q196', 'E197', 'L198', 'P199', 'P200', 'S201', 'P202', 'P203', 'S204', 'A205', 'P206', 'R207', 'K208', 'K209', 'G210', 'G211', 'G212', 'C213', 'P214', 'C215', 'V216', 'L217', 'L218']"
        ],
        [
         "29",
         "/cluster/work/beltrao/jjaenes/25.01.28_af3_bacteria_no_templates/alphafold3_predictions/8st7-1/8st7-1_model.cif.gz",
         "['K203', 'E223', 'I225', 'E240', 'F241', 'Q242', 'Q243', 'E245', 'N247', 'H260', 'F261', 'I262', 'E263', 'V264', 'K265', 'N267', 'I280', 'M281', 'N282', 'H283', 'S284', 'E285', 'L286', 'I287', 'S300', 'F301', 'A302', 'S303', 'P304', 'K305', 'E307', 'T320', 'Y322', 'N323', 'N337', 'N339', 'P340', 'H341', 'R343', 'L345', 'K351', 'R361', 'K364', 'K365', 'N368', 'R370', 'K371', 'R372', 'D373', 'M374', 'A375', 'H378', 'I379', 'N381', 'P382', 'E383', 'R384', 'G385', 'S386', 'F388', 'S389', 'A390', 'I391', 'E392', 'S393', 'I394', 'P395', 'S396', 'I397', 'A398', 'L399', 'R400', 'K401', 'D423', 'Q427', 'P428', 'A430', 'D431', 'C432', 'I433', 'F434', 'R435', 'E436', 'S437', 'A438', 'Y439', 'D446', 'N447', 'R451', 'S464', 'D465', 'N466', 'F467', 'S468', 'T469', 'F470', 'I471', 'N472', 'T473', 'N474', 'N475', 'L476', 'N477', 'Y478', 'I479', 'R480', 'I498', 'E499', 'N500', 'N501', 'N502', 'T503', 'N504', 'I505', 'Q506', 'I507', 'L508', 'L509', 'H510', 'G511', 'Q512', 'Q514', 'G515', 'A516', 'S517', 'K518', 'D519', 'A524', 'K528', 'I531', 'M532', 'Y534', 'P535', 'F536', 'L537', 'K538', 'S539', 'L540', 'Y541', 'E542', 'K543', 'Y544', 'K545', 'E546', 'D547', 'S548', 'L549', 'E550', 'D552', 'E553', 'K554', 'V555', 'L556', 'A557', 'D558', 'D559', 'T560', 'L561', 'Y562', 'F563', 'A575', 'I576', 'I577', 'L578', 'D579', 'R580', 'N581', 'Y582', 'F583', 'N584', 'H585', 'Y586', 'R588', 'Y604', 'K606', 'D629', 'A630', 'A631', 'I632', 'T633', 'S634', 'K635', 'L636', 'A637', 'R638', 'Q639', 'N640', 'I641', 'N643', 'L644', 'K668', 'T670', 'N671', 'R672', 'K673', 'L674', 'T675', 'G676', 'I677', 'F702', 'L703', 'R704', 'L705', 'Y706', 'I707', 'S708', 'P709', 'P710', 'K711', 'L712', 'Y713', 'I714', 'S715', 'R716', 'N717', 'D718', 'R719', 'K755', 'S757', 'S758', 'S759', 'G760', 'I761', 'F762', 'G763', 'T764', 'E765', 'E766', 'N767', 'S768', 'P769', 'P770', 'E771', 'R773', 'R774', 'C777', 'S781', 'D785', 'V797', 'D798', 'Q800', 'N801', 'R802', 'L803', 'R804', 'G805', 'A806', 'K807', 'N808', 'A809', 'F810', 'T811', 'C812', 'T813', 'A814', 'V815', 'L816', 'F817', 'S818', 'T819', 'I820', 'Q821', 'K822', 'Q825', 'V845', 'W846', 'Q847']",
         "['M1', 'Q2', 'K11', 'I13', 'T14', 'L15', 'E16', 'V17', 'E18', 'D21', 'N25', 'A28', 'K29', 'I30', 'Q31', 'D32', 'K33', 'E34', 'G35', 'I36', 'P37', 'P38', 'D39', 'Q40', 'Q41', 'L71', 'R72', 'L73', 'R74', 'G75', 'G76', 'M77', 'T83', 'T85', 'K87', 'I89', 'V93', 'E94', 'P95', 'S96', 'D97', 'T98', 'N101', 'A104', 'K105', 'I106', 'Q107', 'D108', 'K109', 'E110', 'G111', 'I112', 'P113', 'P114', 'D115', 'Q116', 'Q117', 'G129', 'R130', 'T131', 'L132', 'S133', 'D134', 'Y135', 'N136', 'I137', 'Q138', 'K139', 'L145', 'L147', 'R148', 'L149', 'R150', 'G151', 'G152', 'M153', 'Q154', 'I155', 'F156', 'V157', 'K158', 'T159', 'L160', 'T161', 'G162', 'K163', 'T164', 'I165', 'T166', 'L167', 'E168', 'V169', 'E170', 'P171', 'K181', 'I182', 'Q183', 'D184', 'K185', 'E186', 'G187', 'I188', 'P189', 'P190', 'D191', 'Q192', 'K215', 'E216', 'S217', 'T218', 'L219', 'H220', 'V222', 'L223', 'R224', 'L225', 'R226', 'G227', 'G228', 'M229', 'Q230', 'I231', 'F232', 'K234', 'T240', 'T242', 'L243', 'E244', 'V245', 'E246', 'P247', 'S248', 'S285', 'D286', 'N288', 'I289', 'Q290', 'K291', 'E292', 'S293', 'K386', 'T387', 'L388', 'T389', 'G390', 'K391', 'T392', 'I393', 'E404', 'A408', 'I410', 'Q411', 'D412', 'K413', 'E414', 'G415', 'I416', 'P417', 'P418', 'D419', 'Q420', 'Q421', 'R422', 'L423', 'I424', 'F425', 'A426', 'G427', 'K428', 'Q429', 'L430', 'E431', 'D432', 'H448', 'L449', 'V450', 'L451', 'R452', 'L453', 'R454', 'G455', 'G456', 'M457', 'Q458', 'I459', 'F460', 'V461', 'K462', 'T463', 'L464', 'T465', 'G466', 'K467', 'T468', 'I469', 'T470', 'L471', 'E472', 'V473', 'E474', 'P475', 'S476', 'D477', 'T478', 'N481', 'A484', 'K485', 'I486', 'Q487', 'D488', 'K489', 'E490', 'G491', 'I492', 'P493', 'P494', 'Q496', 'Q497', 'R498', 'L499', 'I500', 'F501', 'A502', 'G503', 'K504', 'Q505', 'L506', 'E507', 'G509', 'R510', 'T511', 'L512', 'S513', 'D514', 'Y515', 'N516', 'I517', 'Q518', 'K519', 'E520', 'S521', 'T522', 'L523', 'H524', 'L525', 'V526', 'L527', 'R528', 'L529', 'R530', 'G531', 'G532']"
        ],
        [
         "30",
         "/cluster/work/beltrao/jjaenes/25.01.28_af3_bacteria_no_templates/alphafold3_predictions/3rqd-1/3rqd-1_model.cif.gz",
         "['L31', 'K33', 'I34', 'R37', 'Y100', 'D101', 'C102', 'P103', 'G139', 'G140', 'W141', 'H142', 'H143', 'A144', 'S150', 'G151', 'F152', 'C153', 'Y154', 'D176', 'D178', 'L179', 'H180', 'H181', 'G182', 'D183', 'G206', 'F207', 'F208', 'P209', 'G210', 'Q263', 'G265', 'A266', 'D267', 'T268', 'D272', 'P273', 'M274', 'G302', 'G303', 'G304', 'G305', 'Y306']",
         "['X1', 'G2', 'C3', 'C4', 'V5']"
        ],
        [
         "31",
         "/cluster/work/beltrao/jjaenes/25.01.28_af3_bacteria_no_templates/alphafold3_predictions/4b60-1/4b60-1_model.cif.gz",
         "['M1', 'K2', 'N3', 'N4', 'L5', 'R6', 'Y7', 'G8', 'I9', 'R10', 'K11', 'H12', 'K13', 'G342', 'N343', 'Y344', 'Y345', 'N372', 'G373', 'G476', 'H477', 'P478', 'Q480', 'L481', 'Y482', 'K483', 'Y484', 'Y485', 'Y486', 'D487', 'R488', 'G489', 'Y490', 'T491', 'D561', 'G562', 'G563', 'G564', 'G565', 'V734', 'I736', 'S738', 'E765', 'Q766', 'G767', 'G768', 'N769', 'I770', 'V771', 'D772', 'I773', 'D774', 'F775', 'D776', 'S777', 'V778', 'P779', 'Q780', 'I781', 'Y802', 'E803', 'H804', 'G805', 'G806', 'N807', 'I808', 'I809', 'D810', 'I811', 'D812', 'F813', 'D814', 'S815', 'V816', 'P817', 'H818', 'I819', 'H820', 'G821', 'N823', 'K824', 'H825', 'T826', 'K948', 'P949', 'V950', 'E951', 'Q952', 'G953', 'K954', 'V955', 'V956', 'T957', 'P958', 'V959', 'I960', 'E961', 'I962', 'N963', 'E964', 'K965', 'V966', 'K967', 'A968', 'V969', 'A970', 'P971', 'T972', 'K974']",
         "['I36', 'D38', 'E39', 'R40', 'F41', 'G42', 'S43', 'Y44', 'C45', 'P46', 'T47', 'T48', 'C49', 'G50', 'I51', 'A52', 'D53', 'F54', 'L55', 'S56', 'T57', 'Y58', 'Q59', 'K61', 'V62', 'D63', 'K64', 'D65', 'L66', 'S68', 'L69', 'I72', 'L73', 'V76', 'E82', 'Q85', 'K121', 'A124', 'S125', 'T128', 'H129', 'D130', 'S132', 'I133', 'Y135', 'L136', 'Q137', 'I139', 'Y140', 'S142', 'N143', 'Q145', 'K146', 'I147', 'V148', 'N149', 'L150', 'K151', 'K153', 'V154', 'Q156', 'L157', 'Q160', 'C165', 'K166', 'D167', 'T168', 'V169', 'Q170', 'I171', 'H172', 'D173', 'I174', 'T175', 'L192', 'F194', 'Q202', 'Q203', 'F204', 'L205', 'V206', 'Y207', 'V219', 'F220', 'Q221', 'L224', 'D225', 'G226', 'S227', 'V228', 'D229', 'I235', 'Q236', 'Y237', 'K238', 'E239', 'G240', 'F241', 'G242', 'H243', 'L244', 'S245', 'P246', 'T247', 'G248', 'T249', 'T250', 'E251', 'F252', 'W253', 'L254', 'G255', 'K258', 'E277', 'D278', 'W279', 'N280', 'G281', 'R282', 'F319', 'D320', 'F321', 'G322', 'D323', 'D324', 'P325', 'S326', 'D327', 'K328', 'F329', 'F330', 'T331', 'S339', 'W341', 'N343', 'D344', 'N345', 'D346', 'K347', 'F348', 'E349', 'G350', 'N351', 'C352', 'A353', 'E354', 'Q355', 'D356', 'G357', 'S358', 'M362', 'N363', 'K364', 'C365', 'H366', 'A367', 'H369', 'Y374', 'Q376', 'Y380', 'S381', 'K382', 'A383', 'S384', 'T385', 'P386', 'N387', 'G388', 'Y389', 'D390', 'N391', 'G392', 'I394', 'R401', 'W402', 'K406', 'K407']"
        ],
        [
         "32",
         "/cluster/work/beltrao/jjaenes/25.01.28_af3_bacteria_no_templates/alphafold3_predictions/8d4v-1/8d4v-1_model.cif.gz",
         "['Y37', 'L38', 'Q39', 'I40', 'Q41', 'S42', 'P43', 'A44', 'G45', 'Q46', 'S47', 'R48', 'C49', 'G50', 'D57', 'F58', 'A62', 'A63', 'H64', 'C65', 'W66', 'G67', 'S68', 'N69', 'I79', 'R92', 'R93', 'I95', 'R96', 'H97', 'P98', 'Q99', 'Y100', 'N101', 'Q102', 'R103', 'T104', 'I105', 'D108', 'L111', 'Q113', 'L114', 'S115', 'R117', 'Q133', 'V144', 'W147', 'G148', 'R149', 'M152', 'R153', 'R154', 'G155', 'T156', 'I175', 'F176', 'G177', 'S178', 'R183', 'A195', 'A196', 'F197', 'K198', 'G199', 'D200', 'S201', 'G202', 'G203', 'I214', 'V215', 'S216', 'Y217', 'G218', 'K219', 'S220', 'S221', 'G222', 'E226', 'V227', 'F228', 'S233', 'P236', 'W237', 'I238', 'R239', 'T240', 'T241', 'M242', 'R243', 'S244', 'F245', 'K246', 'L247', 'L248', 'D249', 'Q250', 'M251', 'E252', 'T253']",
         "['H43', 'H44', 'G45', 'H46', 'S47', 'N48', 'I49', 'Q50', 'I51', 'P52', 'Y53', 'T54', 'S61', 'Q62', 'N63', 'I64', 'L65', 'S66', 'S67', 'L68', 'T69', 'F70', 'N71', 'K72', 'F91', 'N92', 'H111', 'K113', 'I137', 'K138', 'A139', 'I140', 'E199', 'R202', 'G203', 'I204', 'T205', 'D206', 'V207', 'D208', 'L211', 'N266', 'Y267', 'Q268', 'V269', 'P270', 'Y271', 'S272', 'I273', 'N274', 'L275', 'N276', 'G277', 'T278', 'S279', 'T280', 'N281', 'I282', 'L283', 'S284', 'N285', 'L286', 'S287', 'F288', 'S301', 'Q302', 'I303', 'K304', 'S305', 'V306', 'L307', 'K308', 'H309', 'D310', 'R311', 'G312', 'I313', 'S314', 'E315', 'Q316', 'D317', 'L318', 'Y329', 'K356', 'R357', 'I358', 'E359', 'I360', 'T361', 'T364', 'A368', 'D371', 'Y373', 'K392', 'S414']"
        ],
        [
         "33",
         "/cluster/work/beltrao/jjaenes/25.01.28_af3_bacteria_no_templates/alphafold3_predictions/7opb-1/7opb-1_model.cif.gz",
         "['L46', 'E47', 'H53', 'G75', 'A76', 'L77', 'V78', 'E79', 'K97', 'K98', 'F99', 'L100', 'L101', 'I102', 'G103', 'K104', 'S105', 'K120', 'I121', 'D122', 'L123', 'T124', 'T125', 'I126', 'V127', 'K157', 'K158', 'Y159', 'V160', 'K161', 'V162', 'D210', 'H211', 'Y212', 'F213', 'K214', 'G215']",
         "['L6', 'A13', 'Q16', 'D18', 'E19', 'V20', 'L21', 'V22', 'M23', 'L24', 'A25', 'R26', 'M27', 'V28', 'L29', 'Y31', 'L32', 'K34', 'G35', 'W36', 'V37', 'S38', 'E40', 'D41', 'A42', 'D43', 'E44', 'S45', 'A46', 'D47', 'R48', 'I49', 'E50', 'E51', 'V52', 'L53', 'K55']"
        ],
        [
         "34",
         "/cluster/work/beltrao/jjaenes/25.01.28_af3_bacteria_no_templates/alphafold3_predictions/1ohe-1/1ohe-1_model.cif.gz",
         "['E83', 'N84', 'F85', 'Y86', 'D88', 'D167', 'A168', 'A169', 'Y170', 'E209', 'K210', 'A211', 'E212', 'D215', 'C228', 'G229', 'G239', 'Y240', 'H241', 'D287', 'G288', 'C314', 'K315', 'A316', 'G317', 'L318', 'G319', 'R320', 'R348', 'P349', 'G350', 'S351', 'I353', 'Q356']",
         "['X1', 'A2', 'S3', 'P4']"
        ],
        [
         "35",
         "/cluster/work/beltrao/jjaenes/25.01.28_af3_bacteria_no_templates/alphafold3_predictions/6ir2-1/6ir2-1_model.cif.gz",
         "['M23', 'E24', 'G25', 'S26', 'V27', 'G29', 'H30', 'E31', 'F32', 'E33', 'F96', 'K97', 'W98', 'E99', 'R100', 'V101', 'M102', 'N103', 'V109', 'V110', 'T111', 'V112', 'T113', 'Q114', 'D115', 'K126', 'V127', 'K128', 'L129', 'R130', 'G131', 'T132', 'N133', 'Y156', 'E158', 'D159', 'G160', 'A161', 'L162', 'K163', 'E165', 'K183', 'T184', 'T185', 'Y186', 'K187', 'A188', 'K189', 'K190']",
         "['T30', 'F31', 'S32', 'D33', 'Y34', 'A35', 'F49', 'I53', 'S54', 'W55', 'S56', 'G57', 'H58', 'V59', 'T60', 'D61', 'Y62', 'A63', 'D64', 'K67', 'R74', 'N76', 'V77', 'S103', 'G104', 'T105', 'W106', 'W107', 'Y108', 'Q109', 'R110', 'D114']"
        ],
        [
         "36",
         "/cluster/work/beltrao/jjaenes/25.01.28_af3_bacteria_no_templates/alphafold3_predictions/1nu9-1/1nu9-1_model.cif.gz",
         "['V51', 'R52', 'K53', 'G54', 'E59', 'Y67', 'E68', 'E69', 'A70', 'F71', 'E72', 'A73', 'L74', 'E75', 'S76', 'S77', 'T80', 'N121', 'I122', 'E128', 'R133', 'E154', 'Q220', 'Q249', 'D250', 'F251', 'N252', 'S253', 'E296', 'E319', 'Q321', 'T322', 'F324', 'N325', 'P326', 'R327', 'G330', 'S331', 'G332', 'E333', 'A334', 'V365', 'E366', 'G367', 'S368', 'D369', 'A370', 'Q378', 'M380', 'F382', 'R383', 'K384', 'S385', 'P386', 'Q387', 'E388', 'L389', 'L390', 'C391', 'G392', 'D398', 'A404', 'A405', 'H406', 'C407', 'L408', 'L409', 'Y410', 'P411', 'P412', 'W413', 'D414', 'K415', 'N416', 'F417', 'N420', 'L422', 'L423', 'V424', 'R425', 'K428', 'H429', 'S430', 'R431', 'T432', 'R433', 'Y434', 'E435', 'R436', 'N437', 'I438', 'E439', 'K440', 'I441', 'S442', 'M443', 'L444', 'Y453', 'N454', 'W455', 'R456', 'E457', 'N458', 'L459', 'D460', 'D462', 'L468', 'K469', 'K470', 'P471', 'V472', 'A473', 'F474', 'S475', 'R486', 'R500', 'V501', 'T502', 'G503', 'W504', 'G505', 'N506', 'L507', 'K508', 'E509', 'T510', 'W511', 'T512', 'A513', 'N514', 'V515', 'G516', 'K517', 'G518', 'Q519', 'P520', 'S521', 'V522', 'L523', 'Q524', 'V525', 'V526', 'N527', 'L528', 'S539', 'T540', 'R541', 'I542', 'R543', 'I544', 'M548', 'Y553', 'G558', 'K559', 'R560', 'G561', 'D562', 'A563', 'C564', 'E565', 'G566', 'D567', 'S568', 'G569', 'G570', 'P571', 'I587', 'V588', 'S589', 'W590', 'G591', 'E592', 'G593', 'C594', 'D595', 'R596', 'D597', 'K599', 'Y600', 'G601', 'F602', 'Y603']",
         "['I1', 'V2', 'T3', 'K4', 'D5', 'Y6', 'S7', 'K8', 'K28', 'R30', 'L31', 'T32', 'S33', 'L34', 'E35', 'S36', 'Q37', 'F38', 'I39', 'N40', 'A41', 'L42', 'G43', 'L45', 'E46', 'T47', 'Y48', 'Y50', 'G51', 'E52', 'K53', 'E54', 'Y55', 'K56', 'D57', 'K59', 'D60', 'M63', 'T64', 'I66', 'L67', 'G68', 'E69', 'D70', 'Q71', 'Y72', 'L73', 'L74', 'E75', 'R76', 'K77', 'K78', 'Y81', 'K85', 'M102', 'T104', 'F105', 'D106', 'Q107', 'Y108', 'T109', 'I110', 'L113', 'L121', 'L125', 'Q180', 'H181', 'K182', 'T183', 'E184', 'A185', 'L186', 'E187', 'L188', 'K189', 'A190', 'K191', 'V192', 'D193', 'L194', 'V195', 'L196', 'G197', 'D198', 'E199', 'D200', 'K201', 'P202', 'H203', 'R209', 'I210', 'K212', 'E213', 'M214', 'I215', 'K216', 'D217', 'L218', 'E219', 'S220', 'I221', 'I222', 'E223', 'D224', 'F225', 'I227', 'E228', 'T229', 'V277', 'K278', 'Y280', 'G281', 'E282', 'T283', 'V284', 'T285', 'K286', 'P287', 'P288', 'V289', 'V290', 'K291', 'E293', 'K294', 'K295', 'E298', 'A301', 'P302', 'K303', 'V304', 'E317', 'E318', 'T319', 'T320', 'Q321', 'P322', 'V323', 'A324', 'Q325', 'P326', 'L327', 'V328', 'K329', 'I330', 'P331', 'Q332', 'G333', 'T334', 'I335', 'Y336', 'G337', 'E338', 'T339', 'V340', 'G342', 'P343', 'Y345', 'R468', 'P469', 'R470', 'F471', 'N472', 'K473', 'P474', 'S475', 'E476', 'N478', 'P496', 'T497', 'Q498', 'N499', 'K500']"
        ],
        [
         "37",
         "/cluster/work/beltrao/jjaenes/25.01.28_af3_bacteria_no_templates/alphafold3_predictions/4f27-1/4f27-1_model.cif.gz",
         "['K2', 'K3', 'R4', 'I5', 'D6', 'Y7', 'N10', 'K14', 'Y15', 'S16', 'I17', 'R18', 'R19', 'F20', 'T21', 'V22', 'G23', 'T24', 'T25', 'S26', 'V27', 'I28', 'V29', 'G30', 'L34', 'Q103', 'T104', 'S105', 'N106', 'T107', 'T108', 'T109', 'Q167', 'T168', 'L169', 'D170', 'L171', 'P172', 'Q173', 'A194', 'V195', 'R196', 'S197', 'L198', 'A199', 'V200', 'A201', 'E202', 'P203', 'V204', 'S222', 'D223', 'F224', 'K225', 'L226', 'E227', 'K228', 'T229', 'A230', 'F231', 'D232', 'P233', 'N234', 'Q235', 'S236', 'G237', 'N238', 'F240', 'A242', 'N244', 'N268', 'G269', 'D270', 'V271', 'D272', 'Y273', 'M280', 'P281', 'I282', 'A283', 'D284', 'K286', 'K295', 'Q322', 'F328', 'R331', 'T339', 'F351', 'D352', 'N353', 'K354', 'I355', 'T356', 'N358', 'Y359', 'S360', 'S361', 'P362', 'I363', 'A364', 'G365', 'I366', 'D367', 'K368', 'G371', 'A372', 'N373', 'I374', 'S375', 'S376', 'Q377', 'I378', 'I379', 'G380', 'V381', 'D382', 'T383', 'A384', 'N388', 'T389', 'Y390', 'K399', 'R401', 'N405', 'W407', 'V408', 'Y409', 'I410', 'K411', 'Y413', 'Q414', 'D415', 'K416', 'I417', 'E418', 'S421', 'Y446', 'S467', 'Y468', 'K469', 'Y470', 'D471', 'N472', 'V473', 'A474', 'S475', 'Y493', 'G497', 'K498', 'N499', 'L500', 'K501', 'T502', 'Q503', 'V504', 'I505', 'Q506', 'E507', 'N508', 'I509', 'G514', 'K515', 'D516', 'Y517', 'S518', 'I519', 'F520', 'G521', 'W522', 'N523', 'N524', 'E525', 'N526', 'V527', 'V528', 'R529', 'Y530', 'G531', 'G532', 'G533', 'S534', 'A535', 'D536', 'G537', 'N542', 'P543', 'V544', 'D545', 'T547', 'P548', 'G549', 'P550', 'P551', 'V552', 'D553', 'P554', 'E555', 'P556', 'E557', 'P558', 'E559', 'P560', 'D773', 'T831', 'D832', 'L834', 'P835', 'E842', 'N843', 'T844', 'N845', 'A846', 'T847', 'L848', 'F849', 'D850', 'A851', 'M852', 'V853', 'A854', 'L855', 'L856', 'G857', 'S858', 'L859', 'L860', 'L861', 'F862', 'R863', 'K864', 'R865', 'K866', 'Q867', 'D868', 'H869', 'K870', 'E871', 'K872', 'A873']",
         "['H103', 'S104', 'T106', 'T107', 'N108', 'I109', 'M110', 'E111', 'I112', 'L113', 'R114', 'G115', 'D116', 'F117', 'S118', 'S119', 'A120', 'N121', 'N122', 'R123', 'N125', 'T126', 'Y127', 'N128', 'R129', 'E132', 'V145', 'K148', 'V149', 'H151', 'I152', 'Q153', 'L154', 'L155', 'Q156', 'K157', 'N158', 'V159', 'R160', 'Q162', 'L163', 'V164', 'D165', 'M166', 'K167', 'R168', 'L169', 'E170', 'V171', 'I173', 'D174', 'I177', 'R186', 'A187', 'L188', 'A189', 'R190', 'E191', 'V192', 'D193', 'L194', 'K195', 'D196', 'Y197', 'D199', 'Q200', 'Q201', 'K202', 'Q203', 'L204', 'E205', 'Q206', 'V207', 'I208', 'A209', 'K210', 'D211', 'L212', 'L213', 'S215', 'D217', 'R218', 'L221', 'P228', 'P245', 'P246', 'E247', 'W248', 'K249', 'A250', 'L251', 'T252', 'D253', 'M254', 'P255', 'Q256', 'M257', 'W321', 'K322', 'P323', 'G324', 'S325', 'S326', 'G327', 'P328', 'P405', 'N406', 'N407', 'P408', 'W410', 'M495', 'L497', 'R512', 'H513', 'E516', 'F554', 'T555', 'N556', 'T557', 'K558', 'E559', 'S560', 'S561', 'T587', 'S588', 'Y589', 'N590', 'R591', 'G592', 'D593', 'S594', 'T595', 'F596', 'E597', 'S598', 'K599', 'S600', 'Y601', 'K602', 'M603', 'A604', 'D605', 'E606', 'A607', 'G608', 'A611', 'D612', 'E614', 'G615', 'T616', 'H617', 'S618', 'T619', 'K620', 'R621', 'G622', 'H623', 'A624', 'K625', 'S626', 'R627', 'P628', 'V629', 'H639', 'I647', 'F648', 'N649', 'I650', 'K651', 'S655', 'S656', 'K657', 'I658', 'F659', 'S660', 'V661', 'D680', 'G681', 'S682', 'L683', 'N684', 'N686', 'R687', 'T688', 'W689', 'Q690', 'D691', 'Y692', 'R694', 'G695', 'F696', 'G697', 'S698', 'L699', 'N700', 'D701', 'E704', 'G705', 'E706', 'F788', 'D789', 'Y821', 'P823']"
        ],
        [
         "38",
         "/cluster/work/beltrao/jjaenes/25.01.28_af3_bacteria_no_templates/alphafold3_predictions/6azp-1/6azp-1_model.cif.gz",
         "['P95', 'R228', 'N232', 'E233', 'R236', 'F237', 'P238', 'T239', 'D240', 'Q241', 'N299', 'D300', 'P301', 'R302', 'I303', 'K304', 'N366', 'Q367', 'R368', 'F369', 'Q370', 'D371', 'N372', 'G373', 'R374', 'A375', 'L376', 'L389', 'T390', 'N391', 'R392', 'S393', 'A394', 'R395', 'I396', 'P507', 'F508', 'M509', 'R511', 'M519', 'E520', 'P521', 'N522', 'P523', 'R524', 'V525', 'P526', 'L527', 'S528', 'R529', 'V530', 'A533', 'W535', 'R536', 'V537', 'V538', 'L539', 'E540', 'G541', 'G542', 'I543', 'A564', 'V565', 'D566', 'E567', 'R569', 'E570', 'R571', 'L572', 'F573', 'E574', 'Q575', 'V576', 'M577', 'R578', 'I579', 'G580']",
         "['Y23', 'G24', 'N25', 'Q26', 'A27', 'D28', 'A29', 'K30', 'V31', 'Y32', 'S33', 'L37', 'V38', 'L39', 'H40', 'D41', 'D42', 'A43', 'N44', 'F45', 'L46', 'E47', 'H48', 'E49', 'L50', 'S51', 'Y52', 'D54', 'V55', 'L56', 'L57', 'D58', 'K59', 'N60', 'A61', 'D62', 'Q63', 'A64', 'T65', 'K66', 'D67', 'N68', 'L69', 'R70', 'S71', 'Y72', 'F73', 'D75', 'K76', 'L78', 'K87', 'D91', 'F93']"
        ],
        [
         "39",
         "/cluster/work/beltrao/jjaenes/25.01.28_af3_bacteria_no_templates/alphafold3_predictions/6gbh-1/6gbh-1_model.cif.gz",
         "['Y123', 'A124', 'V125', 'I126', 'C127', 'G128', 'G129', 'Y130', 'T131', 'D132', 'K133', 'P134', 'N135', 'H136', 'N137', 'Q148', 'T154', 'C155', 'G156', 'G157', 'H158', 'V159', 'G160', 'L161', 'L162', 'Q163', 'A164', 'G165', 'K166', 'N167', 'N168', 'S169', 'L170', 'I216', 'N217', 'N257', 'C258', 'P259', 'Q260', 'L261', 'K262', 'G263', 'K264', 'S265', 'S266', 'S267', 'Q280', 'T281', 'G282', 'A283', 'N284', 'Q285', 'N286']",
         "['Q60', 'Q61', 'L62', 'F63', 'G64', 'Y65', 'S66', 'W67', 'Y68', 'R72', 'V73', 'D74', 'G75', 'N76', 'R77', 'Q78', 'I79', 'V80', 'G81', 'Y82', 'A83', 'I84', 'G85', 'T86', 'Q87', 'Q88', 'A89', 'T90', 'P91', 'G92', 'P93', 'A94', 'Q123', 'V124', 'I125', 'K126', 'S127', 'D128', 'L129', 'V130', 'N131', 'E132', 'E133']"
        ],
        [
         "40",
         "/cluster/work/beltrao/jjaenes/25.01.28_af3_bacteria_no_templates/alphafold3_predictions/4jwi-1/4jwi-1_model.cif.gz",
         "['M1', 'G2', 'K3', 'I4', 'E133', 'E137', 'K166', 'R167', 'G186', 'N187', 'R188', 'T189', 'I190', 'I205', 'E206', 'I207', 'D208', 'E209', 'V210', 'D211', 'E213', 'K214', 'T215', 'E217', 'L219', 'A327', 'G328', 'L329', 'D333', 'D335', 'Q378', 'G379', 'G380', 'V381', 'L382', 'T383', 'G384', 'D385', 'V386', 'K387', 'D388', 'V389', 'L390', 'L391', 'L392', 'D393', 'I401', 'E402', 'T403', 'M404', 'G405', 'G406', 'V407', 'M408', 'T409', 'T410', 'L411', 'I412', 'A413', 'K414', 'N415', 'T416', 'T417', 'I418', 'P419', 'T420', 'K421', 'H422', 'S423', 'Q424', 'V425', 'F426', 'S427', 'T428', 'A429', 'E430', 'N432', 'Q433', 'S434', 'A435', 'V436', 'T437', 'I438', 'H439', 'L441', 'A448', 'A449', 'S453', 'Q456', 'F457', 'N458', 'L459', 'D460', 'I462', 'P466', 'R467', 'G468', 'M469', 'P470', 'Q471', 'I472', 'E473', 'V474', 'T475', 'F476', 'D477', 'I478', 'D479', 'A480', 'H485', 'A488', 'K489', 'K491', 'E496', 'K498']",
         "['R35', 'R56', 'L57', 'L58', 'E59', 'L60', 'D61', 'P62', 'P63', 'P64', 'K65', 'E68', 'R79', 'K81', 'E82', 'T83', 'V84', 'Q91', 'P92', 'P93', 'E94', 'Q95', 'C96', 'D97', 'F98', 'K99', 'E100', 'N101', 'G102', 'V104', 'K105', 'Q106', 'N125', 'E126', 'L127', 'Q128', 'S129', 'V130', 'R131', 'R132', 'L133', 'R134', 'P165', 'R166', 'P167', 'I168', 'L169', 'L170', 'P171', 'W172', 'R173', 'P174', 'P175', 'R176']"
        ],
        [
         "41",
         "/cluster/work/beltrao/jjaenes/25.01.28_af3_bacteria_no_templates/alphafold3_predictions/2a5d-1/2a5d-1_model.cif.gz",
         "['E13', 'R15', 'G20', 'D22', 'A23', 'A24', 'G25', 'K26', 'T27', 'T28', 'Y31', 'K34', 'L35', 'G36', 'Q37', 'S38', 'V39', 'T40', 'T41', 'I42', 'P43', 'T44', 'V45', 'G46', 'F47', 'N48', 'V49', 'E50', 'T51', 'V52', 'T53', 'Y54', 'K55', 'N56', 'V57', 'K58', 'F59', 'N60', 'V61', 'W62', 'D63', 'V64', 'G65', 'G66', 'Q67', 'D68', 'K69', 'I70', 'R71', 'P72', 'L73', 'W74', 'R75', 'H76', 'Y77', 'Y78', 'T79', 'R95', 'E98']",
         "['G38', 'G39', 'L40', 'M41', 'P42', 'Q45', 'M55', 'I57', 'N58', 'G76', 'Y77', 'A107', 'T108', 'A109', 'P110', 'N111', 'M112', 'F113', 'S132', 'A133', 'L134', 'G135', 'G136', 'I137', 'P138', 'Y139', 'S140', 'Q141', 'G162', 'Y163', 'R164', 'D165', 'R166', 'Y167', 'Y168', 'S169', 'N170', 'L171', 'D172', 'I173', 'A174', 'P175', 'A176', 'A177', 'D178', 'G179', 'Y180', 'G181', 'L182', 'A183', 'G184', 'W192', 'H200', 'A201', 'P202', 'P203', 'C217', 'K220', 'T221', 'Q222', 'S223', 'L224', 'K227', 'F228', 'L229', 'E231', 'Y232', 'Q233', 'S234', 'K235', 'V236', 'R238', 'Q239', 'I240', 'F241', 'S242', 'G243', 'Q245', 'S246', 'T250', 'R253']"
        ],
        [
         "42",
         "/cluster/work/beltrao/jjaenes/25.01.28_af3_bacteria_no_templates/alphafold3_predictions/6k3m-1/6k3m-1_model.cif.gz",
         "['G18', 'S19', 'H20', 'M21', 'G22', 'S23', 'Q24', 'P25', 'V26', 'L27', 'T28', 'Q29', 'S30', 'P31', 'S32', 'V33', 'S34', 'A35', 'A36', 'Q39', 'R40', 'V41', 'T42', 'I43', 'S44', 'V45', 'S46', 'G47', 'S48', 'N49', 'S50', 'N51', 'I52', 'G53', 'S54', 'N55', 'T56', 'V57', 'N58', 'W59', 'I60', 'A67', 'P68', 'E69', 'L70', 'L71', 'M72', 'Y73', 'D74', 'D75', 'L77', 'L78', 'A79', 'P80', 'G81', 'S89', 'R90', 'S91', 'G92', 'T93', 'S94', 'A95', 'S96', 'L97', 'T98', 'Y111', 'A112', 'A113', 'T114', 'W115', 'D116', 'D117', 'S118', 'L119', 'N120', 'G121', 'W122', 'V123', 'F124', 'G125', 'G126', 'G127', 'T128', 'K129', 'V130', 'T131', 'L133', 'S134']",
         "['T31', 'P32', 'A33', 'A34', 'N35', 'A36', 'A37', 'Q38', 'H39', 'D40', 'E41', 'A42', 'Q43', 'Q44', 'N45', 'A46', 'F47', 'Y48', 'Q49', 'L51', 'N52', 'A58', 'R61', 'N62', 'G63', 'F64', 'I65', 'Q66', 'L68', 'K69', 'D70', 'P72', 'L112', 'N113', 'M114', 'P115', 'N116', 'L117', 'N118', 'E119', 'R122', 'N123', 'P152', 'N156', 'N157', 'F158', 'N159', 'K160', 'Q163', 'N164', 'F166', 'Y167', 'E168', 'I169', 'L170', 'N171', 'M172', 'P173', 'E177', 'E178', 'R180', 'N181', 'G182', 'F183', 'I184', 'Q185', 'L187', 'K188', 'Q221', 'F224', 'Y225', 'L228', 'H229', 'L230', 'P231', 'R238']"
        ],
        [
         "43",
         "/cluster/work/beltrao/jjaenes/25.01.28_af3_bacteria_no_templates/alphafold3_predictions/3lw8-1/3lw8-1_model.cif.gz",
         "['A3', 'I4', 'R5', 'K7', 'V9', 'I10', 'G14', 'A15', 'K18', 'T19', 'L22', 'I23', 'S26', 'K27', 'F30', 'P31', 'E32', 'V33', 'Y34', 'V35', 'P36', 'T37', 'V38', 'F39', 'E40', 'N41', 'Y42', 'V43', 'A44', 'D45', 'I46', 'Q52', 'V53', 'E54', 'L55', 'A56', 'L57', 'W58', 'D59', 'T60', 'A61', 'G62', 'Q63', 'E64', 'D65', 'Y66', 'D67', 'R68', 'L69', 'R70', 'P71', 'L72', 'S73', 'Y74', 'P75', 'D76', 'F106']",
         "['I47', 'L48', 'S49', 'S50', 'V51', 'S52', 'E53', 'Q54', 'I55', 'N58', 'I59', 'T60', 'D61', 'W62', 'K63', 'N64', 'D65', 'E66', 'K67', 'K68', 'V69', 'Y70', 'S72', 'R73', 'V74', 'V75', 'N76', 'Q77', 'C78', 'I79', 'D80', 'K81', 'F82', 'C83', 'A84', 'E85', 'H86', 'S87', 'R88', 'K89', 'I90', 'G91', 'R95', 'F99', 'S109', 'L110', 'D111', 'I112', 'N113', 'A114', 'A115', 'Q116', 'S117', 'S118', 'I119', 'N120', 'H121', 'L122', 'V123', 'S124', 'G125', 'S126', 'S127', 'F129', 'K130', 'K131', 'M133', 'D134', 'E135', 'M140', 'N141', 'R142', 'S143', 'K145', 'N146', 'D147', 'T148', 'T149', 'S150', 'N151', 'A153', 'N154', 'S157', 'R174']"
        ],
        [
         "44",
         "/cluster/work/beltrao/jjaenes/25.01.28_af3_bacteria_no_templates/alphafold3_predictions/4pz5-1/4pz5-1_model.cif.gz",
         "['A93', 'E94', 'E95', 'T96', 'C97', 'F98', 'D99', 'K100', 'Y101', 'T102', 'G103', 'N104', 'T105', 'Y106', 'V108', 'Y112', 'R114', 'P115', 'K116', 'D117', 'M119', 'I120', 'W121', 'D122', 'C123', 'T124', 'C125', 'I126', 'G127', 'A128', 'G129', 'R130', 'G131', 'R132', 'I133', 'S134', 'C135', 'T136', 'I137', 'A138', 'N139', 'R140', 'C141', 'H142', 'E143', 'G144', 'G145', 'Q146', 'D152', 'T153', 'W154', 'R155', 'R156', 'P157', 'H158', 'E159', 'T160', 'G161', 'G162', 'Y163', 'M164', 'L165', 'E166', 'C167', 'V168', 'C169', 'L170', 'G171', 'N172', 'G173', 'K174', 'G175', 'E176', 'W177', 'T178', 'C179', 'K180', 'P181', 'I182', 'A183', 'E184', 'K185', 'C186', 'F187', 'D188', 'H189', 'T193', 'S194', 'Y195', 'V196', 'V197', 'G198', 'E199', 'W201', 'K203', 'P204', 'Y205', 'Q206', 'W208', 'M209', 'M210', 'V211', 'D212', 'C213', 'T214', 'C215', 'L216', 'G217', 'E218', 'G219', 'S220', 'G221', 'R222', 'I223', 'T224', 'C225', 'T226', 'S227', 'R228', 'N229', 'R230', 'C231', 'N232', 'D233', 'Q234', 'D235', 'T236', 'T238', 'W246', 'K248', 'K249', 'D250', 'L256', 'C258', 'I259', 'C260', 'T261', 'G262', 'N263', 'G264', 'R265', 'G266', 'E267', 'W268', 'K269', 'C270', 'E271', 'R272', 'G327', 'N328', 'Q349', 'T350', 'Y351', 'G352', 'S355', 'N356', 'G357', 'E358', 'P359', 'C360', 'V361', 'T388', 'K397', 'S399', 'T402', 'R439', 'R440', 'D441', 'N442', 'I469', 'T471', 'T472', 'N473', 'E474', 'G475', 'V476', 'M477', 'Y478', 'G481', 'D482', 'Q483', 'W484', 'D485', 'K486', 'Q487', 'H488', 'D489', 'M490', 'G491', 'H492', 'M493', 'M494', 'R495', 'C496', 'I509', 'A510', 'Y511', 'S512', 'Q513', 'L514', 'R515', 'D516', 'Q517', 'C518', 'I519', 'V520', 'D521', 'D522', 'I523', 'T524', 'Y525', 'F531', 'K533', 'R534', 'H535', 'E536', 'E537', 'G538', 'H539', 'M540', 'L541', 'N542', 'C543', 'T544', 'C545', 'F546', 'G547', 'Q548', 'G549', 'R550', 'G551', 'R552', 'W553', 'K554', 'C555', 'D556', 'P557', 'V558', 'D559', 'Q560', 'C561', 'Q562', 'D563', 'S564', 'E565', 'F569', 'I572', 'W576', 'K578', 'V583', 'Y585', 'C587', 'Y588', 'Y590', 'G591', 'R592', 'G593', 'I594', 'G595', 'E596', 'W597', 'H598', 'C599', 'Q600', 'P601', 'E758', 'E759', 'R784', 'R833', 'P837', 'I838', 'T839', 'N857', 'L858', 'P859', 'E860', 'T861', 'R1299', 'T1301', 'V1303', 'A1304', 'A1305', 'G1306', 'E1307', 'G1308', 'I1309', 'P1310', 'I1311', 'F1312', 'E1313', 'D1314', 'F1315', 'R1846', 'V1847', 'T1848', 'P1849', 'K1850', 'E1851', 'K1852', 'T1853', 'G1854', 'P1855', 'M1856', 'K1857', 'M1874', 'V1875', 'A1876', 'T1877', 'K1878', 'Y1879', 'E1880', 'S1882', 'Y1884', 'Q1896', 'V1898', 'R1909', 'R1910', 'A1911', 'R1912', 'V1913', 'T1914', 'D1915', 'A1916', 'T1917', 'E1918', 'T1919', 'T1920', 'I1921', 'T1922', 'I1923', 'S1924', 'W1925', 'R1926', 'T1927', 'K1928', 'T1929', 'Y1970', 'I1972', 'I1988', 'D1989', 'A1990', 'S1991', 'T1992', 'A1993', 'I1994', 'I2025', 'K2027', 'Y2028', 'E2029', 'K2030', 'P2031', 'G2032', 'S2033', 'P2034', 'P2035', 'R2036', 'E2037', 'R2041', 'T2061', 'Y2063', 'I2065', 'L2067', 'K2068', 'N2069', 'N2070', 'Q2071', 'K2072', 'S2073', 'E2074', 'P2075', 'I2077', 'R2079', 'R2335', 'E2461', 'F2463']",
         "['S6', 'K7', 'Y8', 'L9', 'A10', 'L11', 'G12', 'L13', 'L14', 'F15', 'F17', 'S19', 'D21', 'L22', 'F23', 'Y26', 'E125', 'Y126', 'K127', 'G128', 'M129', 'T130', 'Q131', 'G132', 'S133', 'L134', 'N135', 'S136', 'L137', 'S138', 'G139', 'E140', 'S141', 'G142', 'E143', 'L144', 'E145', 'E146', 'P147', 'I148', 'E149', 'S150', 'N151', 'E152', 'I153', 'D154', 'L155', 'T156', 'I157', 'D158', 'S159', 'D160', 'L161', 'R162', 'K164', 'S165', 'S166', 'L167', 'Q168', 'G169', 'I170', 'A171', 'G172', 'S173', 'N174', 'S175', 'I176', 'S177', 'Y178', 'T179', 'D180', 'E181', 'I182', 'E183', 'E184', 'E185', 'D186', 'Y187', 'D188', 'Q189', 'Y190', 'Y191', 'L192', 'D193', 'E194', 'Y195', 'D196', 'E197', 'E198', 'D199', 'E200', 'E201', 'E202', 'I203', 'R204', 'L205', 'S206', 'N207', 'R208', 'Y209', 'Q210', 'S211', 'Y212', 'V216', 'N219', 'T228', 'K229', 'I230', 'Y231', 'N232', 'T233', 'Y234', 'T235', 'L236', 'F237', 'S238', 'T239', 'K240', 'T242', 'Q243', 'Y245', 'S246', 'R248', 'L249', 'D250', 'F252', 'A253', 'K256', 'A257', 'K258', 'E259', 'E260', 'A261', 'A262', 'K263', 'F264', 'T265', 'E267', 'D268', 'N272', 'N278', 'Q281', 'V282', 'S283', 'V284', 'K285', 'T286', 'A287', 'A288', 'N289', 'F290', 'V291', 'Y292', 'I293', 'N294', 'D295', 'T296', 'H297', 'K299', 'R300', 'K301', 'E303', 'N304', 'E308', 'K315', 'Y323', 'E324', 'Y326', 'K327', 'A328', 'I329', 'V330', 'T331', 'S332', 'I333', 'L334', 'L335', 'M336', 'D338', 'S339', 'K341', 'E342', 'G345', 'I346', 'G351', 'V352', 'W353', 'Y354']"
        ],
        [
         "45",
         "/cluster/work/beltrao/jjaenes/25.01.28_af3_bacteria_no_templates/alphafold3_predictions/2noj-1/2noj-1_model.cif.gz",
         "['T58', 'V59', 'H60', 'D61', 'F62', 'P63', 'G64', 'K65', 'K66', 'L67', 'E95', 'F105', 'V106', 'T107', 'V108', 'Q109', 'V116', 'E118', 'K119', 'V120', 'V121', 'Q656', 'V1022', 'I1023', 'A1024', 'V1025', 'H1026', 'Y1027', 'L1028', 'D1029', 'E1030', 'T1031', 'E1032', 'Q1033', 'W1034', 'E1035', 'L1039', 'E1040', 'K1041', 'R1042', 'Q1043', 'G1044', 'L1046', 'E1047', 'K1050', 'Y1053', 'F1086', 'S1087', 'L1088', 'A1089', 'V1090', 'N1091', 'L1092', 'I1093', 'A1094', 'I1095', 'D1096', 'S1097', 'Q1098', 'L1100', 'C1101', 'Q1152', 'E1153', 'A1154', 'K1155', 'D1156', 'I1157', 'C1158', 'E1159', 'E1160', 'Q1161', 'V1162', 'N1163', 'A1280', 'Q1281', 'K1284']",
         "['Y14', 'N17', 'F18', 'K19', 'K20', 'Q21', 'V22', 'N23', 'K24', 'K25', 'E34', 'L35', 'F36', 'K37', 'R38', 'T39', 'R40', 'T41', 'V42', 'A43', 'T44', 'H45', 'R46', 'K47', 'A48', 'Q49', 'R50', 'A51', 'V52', 'N53', 'L54', 'I55', 'H56', 'F57', 'Q58', 'S60', 'K63', 'Q67', 'R68', 'I70', 'D71', 'L72', 'V73', 'L74', 'K75', 'Y76', 'N77', 'T78', 'L79', 'K80']"
        ],
        [
         "46",
         "/cluster/work/beltrao/jjaenes/25.01.28_af3_bacteria_no_templates/alphafold3_predictions/4w6x-1/4w6x-1_model.cif.gz",
         "['P75', 'S77', 'S78', 'G79', 'T80', 'L81', 'T82', 'V105', 'S106', 'I107', 'H108', 'H109', 'S110', 'S111', 'G112', 'S113', 'I114', 'N115', 'E116', 'S117', 'Q118', 'W119', 'G120', 'Q121', 'Q122', 'S123', 'Q124', 'V125', 'G126', 'F127', 'G128', 'T129', 'A130', 'C131', 'G132', 'N133', 'K134', 'K135', 'C136', 'R137', 'F138', 'T139', 'G140', 'F141', 'T168', 'N169', 'K170']",
         "['Q1', 'V2', 'Y29', 'R30', 'K31', 'Y32', 'C33', 'Q39', 'G42', 'K43', 'E44', 'R45', 'E46', 'N52', 'T57', 'Y95', 'L98', 'S99', 'S100', 'N101', 'S102', 'V103', 'C104', 'P105', 'P106', 'G107', 'H108', 'V109', 'A110', 'W111', 'Y112', 'N113', 'D114', 'W115']"
        ],
        [
         "47",
         "/cluster/work/beltrao/jjaenes/25.01.28_af3_bacteria_no_templates/alphafold3_predictions/5czh-1/5czh-1_model.cif.gz",
         "['G719', 'S720', 'G721', 'A722', 'F723', 'G724', 'T725', 'K745', 'R748', 'E749', 'C797', 'L799', 'D800', 'R803', 'H835', 'R836', 'D837', 'L838', 'A839', 'R841', 'N842', 'D855', 'L858', 'A871', 'E872', 'G873', 'G874', 'K875', 'V876', 'P877', 'I878', 'K879', 'W880', 'M881', 'S885', 'I886', 'L887', 'R889', 'Y891', 'E906', 'K913', 'P914', 'Y915', 'D916', 'I918', 'P919', 'A920', 'S921', 'I923']",
         "['D1', 'E2', 'E3', 'D4', 'Y5', 'Y6', 'E7', 'I8', 'P9']"
        ],
        [
         "48",
         "/cluster/work/beltrao/jjaenes/25.01.28_af3_bacteria_no_templates/alphafold3_predictions/4jwc-1/4jwc-1_model.cif.gz",
         "['I401', 'E402', 'T403', 'M404', 'G405', 'G406', 'V407', 'M408', 'T409', 'T410', 'L411', 'P419', 'H422', 'S423', 'Q424', 'V425', 'F426', 'S427', 'T428', 'A429', 'E430', 'N432', 'Q433', 'S434', 'A435', 'V436', 'T437', 'I438', 'H439', 'V440', 'S453', 'G455', 'Q456', 'F457', 'N458', 'L459', 'D460', 'G461', 'I462', 'P464', 'A465', 'P466', 'R467', 'G468', 'M469', 'P470', 'Q471', 'I472', 'E473', 'V474', 'K491', 'N492', 'E530', 'Q534', 'N537', 'Q538', 'D540', 'H541', 'L542', 'S545', 'K548', 'A602', 'Q603', 'H606', 'A607', 'Q609', 'Q610']",
         "['S50', 'E51', 'A52', 'N53', 'L54', 'L58', 'E59', 'L60', 'D61', 'P62', 'K65', 'S77', 'F78', 'T79', 'V80', 'K81', 'E82', 'T83', 'V84', 'C85', 'P86', 'R87', 'T88', 'S89', 'F98', 'K99', 'E100', 'N101', 'G102', 'L103', 'V104', 'K105', 'Q106', 'V108', 'N123', 'N125', 'E126', 'L127', 'Q128', 'S129', 'V130', 'R131', 'R132', 'I133', 'R134', 'P135', 'R136']"
        ],
        [
         "49",
         "/cluster/work/beltrao/jjaenes/25.01.28_af3_bacteria_no_templates/alphafold3_predictions/4isq-1/4isq-1_model.cif.gz",
         "['R679', 'K807', 'V822', 'G823', 'E824', 'V825', 'D826', 'R827', 'L828', 'K829', 'A830', 'K831', 'V832', 'N833', 'E834', 'S835', 'F836', 'E837', 'N838', 'W939', 'I942', 'K944', 'W945', 'V946', 'S947', 'N971', 'Y991', 'D992', 'I993', 'S994', 'K995', 'N996', 'A997', 'A998', 'G999', 'Y1000', 'N1001', 'K1002', 'W1003', 'F1004', 'I1020', 'N1021', 'K1023', 'L1024', 'I1025', 'D1096', 'Y1097', 'W1098', 'G1099', 'N1112', 'V1113', 'N1114', 'Y1115', 'M1116', 'N1117', 'R1118', 'F1129', 'N1130', 'T1131', 'R1132', 'K1133', 'N1134', 'N1135', 'N1136', 'F1138', 'T1216', 'F1217', 'D1218', 'Y1219', 'Y1220', 'I1240', 'G1241', 'S1242', 'Y1243', 'N1254', 'H1255', 'E1256', 'Y1257', 'L1258', 'S1273', 'T1274', 'S1275', 'V1279']",
         "['D276', 'I277', 'C278', 'F279', 'S280', 'R282', 'Y283', 'V284', 'P285', 'T286', 'A287', 'G288', 'K289', 'L290', 'T291', 'V292', 'V293', 'I294', 'L295', 'E296', 'A297', 'K298', 'N299', 'K326', 'K327', 'K328', 'T329', 'T330', 'I331', 'K332', 'K333', 'N334', 'T335', 'L336', 'N337', 'P338', 'Y339', 'Y340', 'N341', 'E342', 'S343', 'F344', 'S345', 'F346', 'E347', 'F350', 'E351', 'I353', 'Q354', 'A386', 'L388', 'R389', 'H390', 'W391', 'S392', 'D393', 'M394', 'L395', 'A396', 'N397', 'P398', 'R399', 'R400', 'P401', 'I402', 'A403', 'Q404', 'W405', 'H406', 'T407']"
        ]
       ],
       "shape": {
        "columns": 3,
        "rows": 250
       }
      },
      "text/html": [
       "<div>\n",
       "<style scoped>\n",
       "    .dataframe tbody tr th:only-of-type {\n",
       "        vertical-align: middle;\n",
       "    }\n",
       "\n",
       "    .dataframe tbody tr th {\n",
       "        vertical-align: top;\n",
       "    }\n",
       "\n",
       "    .dataframe thead th {\n",
       "        text-align: right;\n",
       "    }\n",
       "</style>\n",
       "<table border=\"1\" class=\"dataframe\">\n",
       "  <thead>\n",
       "    <tr style=\"text-align: right;\">\n",
       "      <th></th>\n",
       "      <th>path</th>\n",
       "      <th>ifresid1</th>\n",
       "      <th>ifresid2</th>\n",
       "    </tr>\n",
       "  </thead>\n",
       "  <tbody>\n",
       "    <tr>\n",
       "      <th>0</th>\n",
       "      <td>/cluster/work/beltrao/jjaenes/25.01.28_af3_bac...</td>\n",
       "      <td>[T43, Q44, D45, E47, L49, Q52, P53, K55, R56, ...</td>\n",
       "      <td>[Y34, R44, Q48, L60, D61, Q62, P63, P64, K65, ...</td>\n",
       "    </tr>\n",
       "    <tr>\n",
       "      <th>1</th>\n",
       "      <td>/cluster/work/beltrao/jjaenes/25.01.28_af3_bac...</td>\n",
       "      <td>[G51, C52, Y53, D54, N55, G56, W65, R67, T68, ...</td>\n",
       "      <td>[M1, K2, N3, N4, L5, R6, Y7, G8, I9, R10, K11,...</td>\n",
       "    </tr>\n",
       "    <tr>\n",
       "      <th>2</th>\n",
       "      <td>/cluster/work/beltrao/jjaenes/25.01.28_af3_bac...</td>\n",
       "      <td>[W516, Q519, T556, Q557, H558, G559, G560, M71...</td>\n",
       "      <td>[T1, A2, P3, G4, G5]</td>\n",
       "    </tr>\n",
       "    <tr>\n",
       "      <th>3</th>\n",
       "      <td>/cluster/work/beltrao/jjaenes/25.01.28_af3_bac...</td>\n",
       "      <td>[G18, L19, I20, N21, S22, Y23, Q24, I25, H26, ...</td>\n",
       "      <td>[Y38, R41, R67, R68, D94, S95, Q96, K97, L98, ...</td>\n",
       "    </tr>\n",
       "    <tr>\n",
       "      <th>4</th>\n",
       "      <td>/cluster/work/beltrao/jjaenes/25.01.28_af3_bac...</td>\n",
       "      <td>[T145, P146, A147, L149, N150, S153, C158, A15...</td>\n",
       "      <td>[V21, S22, N23, E24, A25, N26, A27, Q28, V29, ...</td>\n",
       "    </tr>\n",
       "    <tr>\n",
       "      <th>...</th>\n",
       "      <td>...</td>\n",
       "      <td>...</td>\n",
       "      <td>...</td>\n",
       "    </tr>\n",
       "    <tr>\n",
       "      <th>245</th>\n",
       "      <td>/cluster/work/beltrao/jjaenes/25.01.28_af3_bac...</td>\n",
       "      <td>[L8, A9, V10, D11, R12, V13, L112, T113, H114,...</td>\n",
       "      <td>[R27, L28, T29, V30, D31, Y32, I51, S52, W53, ...</td>\n",
       "    </tr>\n",
       "    <tr>\n",
       "      <th>246</th>\n",
       "      <td>/cluster/work/beltrao/jjaenes/25.01.28_af3_bac...</td>\n",
       "      <td>[R10, I11, V12, V13, K14, E15, M16, D17, A18, ...</td>\n",
       "      <td>[S39, P40, G41, E42, E43, I46, R50, V61, L62, ...</td>\n",
       "    </tr>\n",
       "    <tr>\n",
       "      <th>247</th>\n",
       "      <td>/cluster/work/beltrao/jjaenes/25.01.28_af3_bac...</td>\n",
       "      <td>[L41, H42, E43, L44, A45, S46, T47, R48, Q49, ...</td>\n",
       "      <td>[R1, X2, V3, Y4, A5, F6]</td>\n",
       "    </tr>\n",
       "    <tr>\n",
       "      <th>248</th>\n",
       "      <td>/cluster/work/beltrao/jjaenes/25.01.28_af3_bac...</td>\n",
       "      <td>[R109, M110, Q112, S113, M114, S115, G116, Y11...</td>\n",
       "      <td>[E17, M18, R19, I20, L21, T32, L34, Y35, K36, ...</td>\n",
       "    </tr>\n",
       "    <tr>\n",
       "      <th>249</th>\n",
       "      <td>/cluster/work/beltrao/jjaenes/25.01.28_af3_bac...</td>\n",
       "      <td>[M1, K2, S3, V4, F5, V6, E7, S8, T9, F11, E12,...</td>\n",
       "      <td>[Q2, V3, Q4, L5, Q6, E7, V24, Y33, T34, M35, G...</td>\n",
       "    </tr>\n",
       "  </tbody>\n",
       "</table>\n",
       "<p>250 rows × 3 columns</p>\n",
       "</div>"
      ],
      "text/plain": [
       "                                                  path  \\\n",
       "0    /cluster/work/beltrao/jjaenes/25.01.28_af3_bac...   \n",
       "1    /cluster/work/beltrao/jjaenes/25.01.28_af3_bac...   \n",
       "2    /cluster/work/beltrao/jjaenes/25.01.28_af3_bac...   \n",
       "3    /cluster/work/beltrao/jjaenes/25.01.28_af3_bac...   \n",
       "4    /cluster/work/beltrao/jjaenes/25.01.28_af3_bac...   \n",
       "..                                                 ...   \n",
       "245  /cluster/work/beltrao/jjaenes/25.01.28_af3_bac...   \n",
       "246  /cluster/work/beltrao/jjaenes/25.01.28_af3_bac...   \n",
       "247  /cluster/work/beltrao/jjaenes/25.01.28_af3_bac...   \n",
       "248  /cluster/work/beltrao/jjaenes/25.01.28_af3_bac...   \n",
       "249  /cluster/work/beltrao/jjaenes/25.01.28_af3_bac...   \n",
       "\n",
       "                                              ifresid1  \\\n",
       "0    [T43, Q44, D45, E47, L49, Q52, P53, K55, R56, ...   \n",
       "1    [G51, C52, Y53, D54, N55, G56, W65, R67, T68, ...   \n",
       "2    [W516, Q519, T556, Q557, H558, G559, G560, M71...   \n",
       "3    [G18, L19, I20, N21, S22, Y23, Q24, I25, H26, ...   \n",
       "4    [T145, P146, A147, L149, N150, S153, C158, A15...   \n",
       "..                                                 ...   \n",
       "245  [L8, A9, V10, D11, R12, V13, L112, T113, H114,...   \n",
       "246  [R10, I11, V12, V13, K14, E15, M16, D17, A18, ...   \n",
       "247  [L41, H42, E43, L44, A45, S46, T47, R48, Q49, ...   \n",
       "248  [R109, M110, Q112, S113, M114, S115, G116, Y11...   \n",
       "249  [M1, K2, S3, V4, F5, V6, E7, S8, T9, F11, E12,...   \n",
       "\n",
       "                                              ifresid2  \n",
       "0    [Y34, R44, Q48, L60, D61, Q62, P63, P64, K65, ...  \n",
       "1    [M1, K2, N3, N4, L5, R6, Y7, G8, I9, R10, K11,...  \n",
       "2                                 [T1, A2, P3, G4, G5]  \n",
       "3    [Y38, R41, R67, R68, D94, S95, Q96, K97, L98, ...  \n",
       "4    [V21, S22, N23, E24, A25, N26, A27, Q28, V29, ...  \n",
       "..                                                 ...  \n",
       "245  [R27, L28, T29, V30, D31, Y32, I51, S52, W53, ...  \n",
       "246  [S39, P40, G41, E42, E43, I46, R50, V61, L62, ...  \n",
       "247                           [R1, X2, V3, Y4, A5, F6]  \n",
       "248  [E17, M18, R19, I20, L21, T32, L34, Y35, K36, ...  \n",
       "249  [Q2, V3, Q4, L5, Q6, E7, V24, Y33, T34, M35, G...  \n",
       "\n",
       "[250 rows x 3 columns]"
      ]
     },
     "execution_count": 3,
     "metadata": {},
     "output_type": "execute_result"
    }
   ],
   "source": [
    "# Calculate interface residues\n",
    "interface_residues[['ifresid1', 'ifresid2']] = pd.DataFrame(mf.parallel_map(mf.structure.get_ifresid, interface_residues['path']))\n",
    "interface_residues"
   ]
  }
 ],
 "metadata": {
  "kernelspec": {
   "display_name": "af2genomics-25.08",
   "language": "python",
   "name": "python3"
  },
  "language_info": {
   "codemirror_mode": {
    "name": "ipython",
    "version": 3
   },
   "file_extension": ".py",
   "mimetype": "text/x-python",
   "name": "python",
   "nbconvert_exporter": "python",
   "pygments_lexer": "ipython3",
   "version": "3.12.11"
  }
 },
 "nbformat": 4,
 "nbformat_minor": 5
}
